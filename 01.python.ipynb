{
 "cells": [
  {
   "cell_type": "markdown",
   "metadata": {
    "application/vnd.databricks.v1+cell": {
     "cellMetadata": {},
     "inputWidgets": {},
     "nuid": "24e69840-ce00-40c5-ae3a-c3bff7e55ebd",
     "showTitle": false,
     "tableResultSettingsMap": {},
     "title": ""
    }
   },
   "source": [
    "**what is python?**\n",
    "* Python is a programming language which is created by gudio van rossum in 1989\n",
    "* python is a general language which can be used for web development, softwaredevelopment,system scripting, machie learning,etc..\n",
    "\n",
    "* python can be used to handle bigdata and perform data analysis\n",
    "* python can automated repeated tasks like copying files anf folders, renaming and uploading file to server\n",
    "* python can be also used for web scrapping where you can get the data from any websies\n",
    "* python can be used to create web applications, mobile applictions, desktop applications, s/w testing ..etc"
   ]
  },
  {
   "cell_type": "markdown",
   "metadata": {
    "application/vnd.databricks.v1+cell": {
     "cellMetadata": {},
     "inputWidgets": {},
     "nuid": "00044292-65fb-41a4-9683-e6a5cc73bdbb",
     "showTitle": false,
     "tableResultSettingsMap": {},
     "title": ""
    }
   },
   "source": [
    "**why python**\n",
    "* simple language : python has a simple syntax and allows developers to write programs with fewer lines than some other programming language\n",
    "* python runs on interpreter system which executes code line by line\n",
    "* python supports different platforms like windows, unix, linux etc\n",
    "* python is a free open source techonology available\n",
    "* Multi paradigm: pyhton suppors object oriented, structual programming and functional programming\n",
    "* python has large libraries which can be used instead of developing the code from scratch\n",
    "*  python has huge community base and you can get solutions through the community very easily"
   ]
  },
  {
   "cell_type": "markdown",
   "metadata": {
    "application/vnd.databricks.v1+cell": {
     "cellMetadata": {},
     "inputWidgets": {},
     "nuid": "dc239fb4-0f33-49a5-ace6-b7f1413b6abd",
     "showTitle": false,
     "tableResultSettingsMap": {},
     "title": ""
    }
   },
   "source": [
    "**Data Tpes**\n",
    "* Text Type:\tstr\n",
    "* Numeric Types:\tint, float, complex\n",
    "* Sequence Types:\tlist, tuple, range\n",
    "* Mapping Type:\tdict\n",
    "* Set Types:\tset, frozenset\n",
    "* Boolean Type:\tbool\n",
    "* Binary Types:\tbytes, bytearray, memoryview\n",
    "* None Type:\tNoneType"
   ]
  },
  {
   "cell_type": "markdown",
   "metadata": {
    "application/vnd.databricks.v1+cell": {
     "cellMetadata": {},
     "inputWidgets": {},
     "nuid": "09c5b6ea-a17e-402c-8a3a-8e7fb5c954f6",
     "showTitle": false,
     "tableResultSettingsMap": {},
     "title": ""
    }
   },
   "source": [
    "**Variables**\n",
    "* variables is a container that holds the data which creates a placeholder in memory and assign with some value\n",
    "* variables allows any values and you can assign the variable value using the equal = symbol\n",
    "* variables can be changed on assignment or dynamically using the programming"
   ]
  },
  {
   "cell_type": "code",
   "execution_count": 0,
   "metadata": {
    "application/vnd.databricks.v1+cell": {
     "cellMetadata": {
      "byteLimit": 2048000,
      "rowLimit": 10000
     },
     "inputWidgets": {},
     "nuid": "53796634-d8ba-4486-af9f-7e40bbd6b61e",
     "showTitle": false,
     "tableResultSettingsMap": {},
     "title": ""
    }
   },
   "outputs": [
    {
     "output_type": "stream",
     "name": "stdout",
     "output_type": "stream",
     "text": [
      "2\n"
     ]
    }
   ],
   "source": [
    "x=2\n",
    "print(x)"
   ]
  },
  {
   "cell_type": "code",
   "execution_count": 0,
   "metadata": {
    "application/vnd.databricks.v1+cell": {
     "cellMetadata": {
      "byteLimit": 2048000,
      "rowLimit": 10000
     },
     "inputWidgets": {},
     "nuid": "8d5a89b4-bd52-4c47-86a7-4c16524c7d82",
     "showTitle": false,
     "tableResultSettingsMap": {},
     "title": ""
    }
   },
   "outputs": [
    {
     "output_type": "stream",
     "name": "stdout",
     "output_type": "stream",
     "text": [
      "[1, 2, 3, 4]\n"
     ]
    }
   ],
   "source": [
    "# Assign a list variable\n",
    "\n",
    "list = [1, 2, 3, 4]\n",
    "print(list)"
   ]
  },
  {
   "cell_type": "code",
   "execution_count": 0,
   "metadata": {
    "application/vnd.databricks.v1+cell": {
     "cellMetadata": {
      "byteLimit": 2048000,
      "rowLimit": 10000
     },
     "inputWidgets": {},
     "nuid": "856fb25c-0e75-48a6-8ac0-56fc55d7e5d5",
     "showTitle": false,
     "tableResultSettingsMap": {},
     "title": ""
    }
   },
   "outputs": [
    {
     "output_type": "stream",
     "name": "stdout",
     "output_type": "stream",
     "text": [
      "6\n"
     ]
    }
   ],
   "source": [
    "# Assign multiple variable\n",
    "a=b=c=2\n",
    "print(a+b+c)"
   ]
  },
  {
   "cell_type": "code",
   "execution_count": 0,
   "metadata": {
    "application/vnd.databricks.v1+cell": {
     "cellMetadata": {
      "byteLimit": 2048000,
      "rowLimit": 10000
     },
     "inputWidgets": {},
     "nuid": "0f8cffcd-77d9-4d41-99ae-de6c2c043972",
     "showTitle": false,
     "tableResultSettingsMap": {},
     "title": ""
    }
   },
   "outputs": [
    {
     "output_type": "stream",
     "name": "stdout",
     "output_type": "stream",
     "text": [
      "John\n"
     ]
    }
   ],
   "source": [
    "# Assign a string variable\n",
    "name = \"John\"\n",
    "print(name)"
   ]
  },
  {
   "cell_type": "markdown",
   "metadata": {
    "application/vnd.databricks.v1+cell": {
     "cellMetadata": {},
     "inputWidgets": {},
     "nuid": "c1d062fd-f170-4e2c-8657-830a2aa61ed4",
     "showTitle": false,
     "tableResultSettingsMap": {},
     "title": ""
    }
   },
   "source": [
    "**pyhthon reserved keywords**\n",
    "* * https://www.w3schools.com/python/python_ref_keywords.asp\n",
    "* and\t    A logical operator\n",
    "* as\t    To create an alias\n",
    "* assert\tFor debugging\n",
    "* break\t  To break out of a loop\n",
    "* class\t  To define a class\n",
    "* continue\tTo continue to the next iteration of a loop\n",
    "* def\t      To define a function\n",
    "* del   \t  To delete an object\n",
    "* elif\t    Used in conditional statements, same as else if\n",
    "* else\t    Used in conditional statements\n",
    "* except\t  Used with exceptions, what to do when an exception occurs\n",
    "* False\t    Boolean value, result of comparison operations\n",
    "* finally \tUsed with exceptions, a block of code that will be executed no matter if there is an exception or not\n",
    "* for\t      To create a for loop\n",
    "* from\t    To import specific parts of a module\n",
    "* global\t  To declare a global variable\n",
    "* if\t      To make a conditional statement\n",
    "* import  \tTo import a module\n",
    "* in\t      To check if a value is present in a list, tuple, etc.\n",
    "* is\t      To test if two variables are equal\n",
    "* lambda\t  To create an anonymous function\n",
    "* None\t    Represents a null value\n",
    "* nonlocal\tTo declare a non-local variable\n",
    "* not\t      A logical operator\n",
    "* or\t      A logical operator\n",
    "* pass\t    A null statement, a statement that will do nothing\n",
    "* raise\t    To raise an exception\n",
    "* return\t  To exit a function and return a value\n",
    "* True\t    Boolean value, result of comparison operations\n",
    "* try\t      To make a try...except statement\n",
    "* while   \tTo create a while loop\n",
    "* with\t    Used to simplify exception handling\n",
    "* yield\t    To return a list of values from a generator\n"
   ]
  },
  {
   "cell_type": "markdown",
   "metadata": {
    "application/vnd.databricks.v1+cell": {
     "cellMetadata": {},
     "inputWidgets": {},
     "nuid": "fb1a094f-884f-4c85-89ab-a6bb7f84bc19",
     "showTitle": false,
     "tableResultSettingsMap": {},
     "title": ""
    }
   },
   "source": [
    "**Numeric Types**\n",
    "  \n",
    "  **Integer**\n",
    "\n",
    "      * * integer value can be any length such as integers 10,2,29,-30,-500,etc\n",
    "      * * python has no restriction on the length of an integer\n",
    "  \n",
    "  **Float**\n",
    "  \n",
    "      * * Float is used to store floating-point numbers like 1.1,9.99,15.2, etc\n",
    "      * * it is accurate up to 15 decimal points\n",
    "  \n",
    "  **Complex**    \n",
    "  \n",
    "      * * Complex numbers are written with a \"j\" as the imaginary part:\n",
    "      * * A complex number contains an ordered pair, x +iy where x and y denote the real and imaginary parts, respectively\n",
    "      * * The complex numbers like 2.14j,2.0 +2.3j etc\n"
   ]
  },
  {
   "cell_type": "markdown",
   "metadata": {
    "application/vnd.databricks.v1+cell": {
     "cellMetadata": {},
     "inputWidgets": {},
     "nuid": "b6fd4456-10c2-4448-b845-941166fc44e9",
     "showTitle": false,
     "tableResultSettingsMap": {},
     "title": ""
    }
   },
   "source": [
    "**String**\n",
    "\n",
    "    * * The string can be defined as the sequence of characters represented in the quotation mark\n",
    "    * * In python, we can use single, double, or triple quotes to define a string \"python\",'python'"
   ]
  },
  {
   "cell_type": "code",
   "execution_count": 0,
   "metadata": {
    "application/vnd.databricks.v1+cell": {
     "cellMetadata": {
      "byteLimit": 2048000,
      "rowLimit": 10000
     },
     "inputWidgets": {},
     "nuid": "82580369-7b7e-4cda-ba7f-db2c32124589",
     "showTitle": false,
     "tableResultSettingsMap": {},
     "title": ""
    }
   },
   "outputs": [
    {
     "output_type": "stream",
     "name": "stdout",
     "output_type": "stream",
     "text": [
      "Hello\nHello\n"
     ]
    }
   ],
   "source": [
    "print(\"Hello\")\n",
    "print('Hello')"
   ]
  },
  {
   "cell_type": "code",
   "execution_count": 0,
   "metadata": {
    "application/vnd.databricks.v1+cell": {
     "cellMetadata": {
      "byteLimit": 2048000,
      "rowLimit": 10000
     },
     "inputWidgets": {},
     "nuid": "ebaac5ef-4b85-43aa-be42-9d8d24e9678b",
     "showTitle": false,
     "tableResultSettingsMap": {},
     "title": ""
    }
   },
   "outputs": [
    {
     "output_type": "stream",
     "name": "stdout",
     "output_type": "stream",
     "text": [
      "Lorem ipsum dolor sit amet,\nconsectetur adipiscing elit,\nsed do eiusmod tempor incididunt\nut labore et dolore magna aliqua.\n"
     ]
    }
   ],
   "source": [
    "a = \"\"\"Lorem ipsum dolor sit amet,\n",
    "consectetur adipiscing elit,\n",
    "sed do eiusmod tempor incididunt\n",
    "ut labore et dolore magna aliqua.\"\"\"\n",
    "print(a)"
   ]
  },
  {
   "cell_type": "code",
   "execution_count": 0,
   "metadata": {
    "application/vnd.databricks.v1+cell": {
     "cellMetadata": {
      "byteLimit": 2048000,
      "rowLimit": 10000
     },
     "inputWidgets": {},
     "nuid": "25b698bd-2017-4d87-88a6-8eb312bced68",
     "showTitle": false,
     "tableResultSettingsMap": {},
     "title": ""
    }
   },
   "outputs": [
    {
     "output_type": "stream",
     "name": "stdout",
     "output_type": "stream",
     "text": [
      "Lorem ipsum dolor sit amet,\nconsectetur adipiscing elit,\nsed do eiusmod tempor incididunt\nut labore et dolore magna aliqua.\n"
     ]
    }
   ],
   "source": [
    "a = '''Lorem ipsum dolor sit amet,\n",
    "consectetur adipiscing elit,\n",
    "sed do eiusmod tempor incididunt\n",
    "ut labore et dolore magna aliqua.'''\n",
    "print(a)"
   ]
  },
  {
   "cell_type": "code",
   "execution_count": 0,
   "metadata": {
    "application/vnd.databricks.v1+cell": {
     "cellMetadata": {
      "byteLimit": 2048000,
      "rowLimit": 10000
     },
     "inputWidgets": {},
     "nuid": "28104446-eef5-4eb1-83be-fee18ae3bdf9",
     "showTitle": false,
     "tableResultSettingsMap": {},
     "title": ""
    }
   },
   "outputs": [
    {
     "output_type": "stream",
     "name": "stdout",
     "output_type": "stream",
     "text": [
      "Raj's Laptop\n"
     ]
    }
   ],
   "source": [
    "#symbol \\ used to escape character\n",
    "print(\"Raj\\'s Laptop\")"
   ]
  },
  {
   "cell_type": "code",
   "execution_count": 0,
   "metadata": {
    "application/vnd.databricks.v1+cell": {
     "cellMetadata": {
      "byteLimit": 2048000,
      "rowLimit": 10000
     },
     "inputWidgets": {},
     "nuid": "c47f63f6-e702-4b95-828d-06ab31cf9759",
     "showTitle": false,
     "tableResultSettingsMap": {},
     "title": ""
    }
   },
   "outputs": [
    {
     "output_type": "stream",
     "name": "stdout",
     "output_type": "stream",
     "text": [
      "Hello\nWorld\nHello\tWorld\nIt's alright.\nThis will insert one \\ (backslash).\nHello\nWorld\nHello\tWorld\nIt's alright.\nThis will insert one \\ (backslash).\n"
     ]
    }
   ],
   "source": [
    "#\\n symbol is used to insert a new line\n",
    "print(\"Hello\\nWorld\")\n",
    "#\\t symbol is used to insert a tab\n",
    "print(\"Hello\\tWorld\")\n",
    "#\\' symbol is used to insert a single quote\n",
    "print('It\\'s alright.')\n",
    "#\\\\ symbol is used to insert a backslash\n",
    "print(\"This will insert one \\\\ (backslash).\")\n"
   ]
  },
  {
   "cell_type": "markdown",
   "metadata": {
    "application/vnd.databricks.v1+cell": {
     "cellMetadata": {},
     "inputWidgets": {},
     "nuid": "90b5959e-0610-4d73-bc85-f0794881f4f2",
     "showTitle": false,
     "tableResultSettingsMap": {},
     "title": ""
    }
   },
   "source": [
    "**List**\n",
    "\n",
    "* List is a collection of items which is orderd and changeble(mutable)\n",
    "* Lists are used to store multiple items in a single variable.\n",
    "* Lists are one of 4 built-in data types in Python used to store collections of data, the other 3 are Tuple, Set, and Dictionary, all with different qualities and usage.\n",
    "* List allows duplicate values\n",
    "* Lists are created using square brackets: ['apple','grape','banana'] [1,'string',3,'int']"
   ]
  },
  {
   "cell_type": "code",
   "execution_count": 0,
   "metadata": {
    "application/vnd.databricks.v1+cell": {
     "cellMetadata": {
      "byteLimit": 2048000,
      "rowLimit": 10000
     },
     "inputWidgets": {},
     "nuid": "cc00bc0f-2588-4437-98db-db9f909a1d36",
     "showTitle": false,
     "tableResultSettingsMap": {},
     "title": ""
    }
   },
   "outputs": [
    {
     "output_type": "stream",
     "name": "stdout",
     "output_type": "stream",
     "text": [
      "[1, 'A', 'A', 'B', 2, 3, 4, 'A', 'B', 'C']\n1\n['A', 'B', 2, 3, 4, 'A', 'B', 'C']\n[1, 'Z', 'A', 'B', 2, 3, 4, 'A', 'B', 'C']\n[1, 'Z', 'Z', 'A', 'B', 2, 3, 4, 'A', 'B', 'C']\n[1, 'Z', 'A', 'B', 2, 3, 4, 'A', 'B', 'C']\n"
     ]
    }
   ],
   "source": [
    "# accessing by list name\n",
    "list = [1,'A' , 'A','B',2, 3, 4, 'A','B','C']\n",
    "print(list)\n",
    "# Accessing the list name and index number\n",
    "print(list[0])\n",
    "print(list[2:])\n",
    "#change the list value\n",
    "list[1]= 'Z'\n",
    "print(list)\n",
    "\n",
    "# insert (<posiion>)\n",
    "list.insert(2,'Z')\n",
    "print(list)\n",
    "# remove the list value\n",
    "list.remove('Z')\n",
    "print(list)"
   ]
  },
  {
   "cell_type": "markdown",
   "metadata": {
    "application/vnd.databricks.v1+cell": {
     "cellMetadata": {},
     "inputWidgets": {},
     "nuid": "6df441da-e6f1-4d92-bb66-6e516525ea70",
     "showTitle": false,
     "tableResultSettingsMap": {},
     "title": ""
    }
   },
   "source": [
    "**Tuples**\n",
    "\n",
    "* Tuples is a collection of items which is ordered and unchangeable(immutable)\n",
    "* Tuples are used to store multiple items in a single variable.\n",
    "* Tuple is one of 4 built-in data types in Python used to store collections of data, the other 3 are List, Set, and Dictionary, all with different qualities and usage.\n",
    "* Tuples are written with round brackets. ('apple','grape','banana') (1,'string',3,'int')\n",
    "* Tuples allows duplicate values"
   ]
  },
  {
   "cell_type": "code",
   "execution_count": 0,
   "metadata": {
    "application/vnd.databricks.v1+cell": {
     "cellMetadata": {
      "byteLimit": 2048000,
      "rowLimit": 10000
     },
     "inputWidgets": {},
     "nuid": "0327d54d-08c8-4335-8a57-cc23c5d81ca3",
     "showTitle": false,
     "tableResultSettingsMap": {},
     "title": ""
    }
   },
   "outputs": [
    {
     "output_type": "stream",
     "name": "stdout",
     "output_type": "stream",
     "text": [
      "(1, 'A', 'A', 'B', 2, 3, 4, 'A', 'B', 'C')\n1\n('A', 'B', 2, 3, 4, 'A', 'B', 'C')\n"
     ]
    }
   ],
   "source": [
    "# accessing by Tuples name\n",
    "Tuples = (1,'A' , 'A','B',2, 3, 4, 'A','B','C')\n",
    "print(Tuples)\n",
    "# Accessing the Tuples name and index number\n",
    "print(Tuples[0])\n",
    "print(Tuples[2:])\n",
    "\n"
   ]
  }
 ],
 "metadata": {
  "application/vnd.databricks.v1+notebook": {
   "computePreferences": null,
   "dashboards": [],
   "environmentMetadata": {
    "base_environment": "",
    "environment_version": "3"
   },
   "inputWidgetPreferences": null,
   "language": "python",
   "notebookMetadata": {
    "pythonIndentUnit": 4
   },
   "notebookName": "01.python",
   "widgets": {}
  },
  "language_info": {
   "name": "python"
  }
 },
 "nbformat": 4,
 "nbformat_minor": 0
}