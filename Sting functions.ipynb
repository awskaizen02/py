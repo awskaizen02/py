{
 "cells": [
  {
   "cell_type": "code",
   "execution_count": 0,
   "metadata": {
    "application/vnd.databricks.v1+cell": {
     "cellMetadata": {
      "byteLimit": 2048000,
      "rowLimit": 10000
     },
     "inputWidgets": {},
     "nuid": "38c8177f-0b24-4695-abb8-7fcb3a716655",
     "showTitle": false,
     "tableResultSettingsMap": {},
     "title": ""
    }
   },
   "outputs": [],
   "source": [
    "from pyspark.sql.types import *\n",
    "from pyspark.sql.functions import *"
   ]
  },
  {
   "cell_type": "code",
   "execution_count": 0,
   "metadata": {
    "application/vnd.databricks.v1+cell": {
     "cellMetadata": {
      "byteLimit": 2048000,
      "rowLimit": 10000
     },
     "inputWidgets": {},
     "nuid": "c774cd50-7319-4d0b-bc6b-be20d5f3dca2",
     "showTitle": false,
     "tableResultSettingsMap": {},
     "title": ""
    }
   },
   "outputs": [
    {
     "output_type": "stream",
     "name": "stdout",
     "output_type": "stream",
     "text": [
      "+--------------+--------------+-------+-----+------+\n|     firstname|      LastName|Country|State|Salary|\n+--------------+--------------+-------+-----+------+\n|         James|         Smith|    USA|   CA|  3000|\n|       Michael|          Rose|    USA|   NY|  2500|\n|        Robert|      Williams|    USA|   CA|  6000|\n|         Maria|  Jones       |    USA|   FL|  4000|\n|         james|jones         |     UK|  LND|  8000|\n|          john|           doe|     UK|  LND|  4000|\n|        Michel|         bevon|     UK|  LND|  5000|\n|         james|         jones|     UK|  LND|  8000|\n|          john|           doe|     UK|  MCR|  4000|\n|        Michel|         bevon|     UK|  MCR|  5000|\n+--------------+--------------+-------+-----+------+\n\n"
     ]
    }
   ],
   "source": [
    "\n",
    "\n",
    "staticlist =[(\"     James\",\"Smith\",\"USA\",\"CA\",3000),\n",
    "    (\"Michael\",\"Rose\",\"USA\",\"NY\",2500),\n",
    "    (\"Robert\",\"Williams\",\"USA\",\"CA\",6000),\n",
    "    (\"Maria\",\"Jones       \",\"USA\",\"FL\",4000),\n",
    "    (\"james\",\"jones         \",\"UK\",\"LND\",8000),\n",
    "    (\"john\",\"doe\",\"UK\",\"LND\",4000),\n",
    "    (\"        Michel\",\"bevon\",\"UK\",\"LND\",5000),\n",
    "    (\"james\",\"jones\",\"UK\",\"LND\",8000),\n",
    "    (\"john\",\"doe\",\"UK\",\"MCR\",4000),\n",
    "    (\"Michel\",\"bevon\",\"UK\",\"MCR\",5000)\n",
    " ]\n",
    " \n",
    "columns = [\"firstname\",\"LastName\",\"Country\",\"State\",\"Salary\"]\n",
    "df = spark.createDataFrame(data=staticlist, schema = columns)\n",
    "df.show()"
   ]
  },
  {
   "cell_type": "code",
   "execution_count": 0,
   "metadata": {
    "application/vnd.databricks.v1+cell": {
     "cellMetadata": {
      "byteLimit": 2048000,
      "rowLimit": 10000
     },
     "inputWidgets": {},
     "nuid": "96070380-8ff5-4874-b4ff-47abc5e87432",
     "showTitle": false,
     "tableResultSettingsMap": {},
     "title": ""
    }
   },
   "outputs": [
    {
     "output_type": "stream",
     "name": "stdout",
     "output_type": "stream",
     "text": [
      "+--------------+--------------+-------+-----+------+--------------+--------------+--------------+\n|     firstname|      LastName|Country|State|Salary|     upperCase|     lowerCase|     titleCase|\n+--------------+--------------+-------+-----+------+--------------+--------------+--------------+\n|         James|         Smith|    USA|   CA|  3000|         JAMES|         james|         James|\n|       Michael|          Rose|    USA|   NY|  2500|       MICHAEL|       michael|       Michael|\n|        Robert|      Williams|    USA|   CA|  6000|        ROBERT|        robert|        Robert|\n|         Maria|  Jones       |    USA|   FL|  4000|         MARIA|         maria|         Maria|\n|         james|jones         |     UK|  LND|  8000|         JAMES|         james|         James|\n|          john|           doe|     UK|  LND|  4000|          JOHN|          john|          John|\n|        Michel|         bevon|     UK|  LND|  5000|        MICHEL|        michel|        Michel|\n|         james|         jones|     UK|  LND|  8000|         JAMES|         james|         James|\n|          john|           doe|     UK|  MCR|  4000|          JOHN|          john|          John|\n|        Michel|         bevon|     UK|  MCR|  5000|        MICHEL|        michel|        Michel|\n+--------------+--------------+-------+-----+------+--------------+--------------+--------------+\n\n"
     ]
    }
   ],
   "source": [
    "# get the Upper case, lower case and title case for any string\n",
    "# you can apply these functions nside the withColumn method to apply the required transformations\n",
    "\n",
    "# get the upper case for above dataframe\n",
    "\n",
    "df2 = df.withColumn(\"upperCase\",upper(\"firstname\"))\\\n",
    "        .withColumn(\"lowerCase\",lower(\"firstname\"))\\\n",
    "        .withColumn(\"titleCase\",initcap(\"firstname\"))\n",
    "df2.show()"
   ]
  },
  {
   "cell_type": "code",
   "execution_count": 0,
   "metadata": {
    "application/vnd.databricks.v1+cell": {
     "cellMetadata": {
      "byteLimit": 2048000,
      "rowLimit": 10000
     },
     "inputWidgets": {},
     "nuid": "d7a7146a-7673-47bb-a742-f82244a267b5",
     "showTitle": false,
     "tableResultSettingsMap": {},
     "title": ""
    }
   },
   "outputs": [
    {
     "output_type": "stream",
     "name": "stdout",
     "output_type": "stream",
     "text": [
      "+--------------+--------------+-------+-----+------+--------------+--------------+--------------+--------------------+\n|     firstname|      LastName|Country|State|Salary|     upperCase|     lowerCase|     titleCase|            fullName|\n+--------------+--------------+-------+-----+------+--------------+--------------+--------------+--------------------+\n|         James|         Smith|    USA|   CA|  3000|         JAMES|         james|         James|         James Smith|\n|       Michael|          Rose|    USA|   NY|  2500|       MICHAEL|       michael|       Michael|        Michael Rose|\n|        Robert|      Williams|    USA|   CA|  6000|        ROBERT|        robert|        Robert|     Robert Williams|\n|         Maria|  Jones       |    USA|   FL|  4000|         MARIA|         maria|         Maria|  Maria Jones       |\n|         james|jones         |     UK|  LND|  8000|         JAMES|         james|         James|James Jones         |\n|          john|           doe|     UK|  LND|  4000|          JOHN|          john|          John|            John Doe|\n|        Michel|         bevon|     UK|  LND|  5000|        MICHEL|        michel|        Michel|        Michel Bevon|\n|         james|         jones|     UK|  LND|  8000|         JAMES|         james|         James|         James Jones|\n|          john|           doe|     UK|  MCR|  4000|          JOHN|          john|          John|            John Doe|\n|        Michel|         bevon|     UK|  MCR|  5000|        MICHEL|        michel|        Michel|        Michel Bevon|\n+--------------+--------------+-------+-----+------+--------------+--------------+--------------+--------------------+\n\n"
     ]
    }
   ],
   "source": [
    "# concat firstname and lastname to create a full name\n",
    "# concat(\"col1\",\"col2\") will concat col1 and col2\n",
    "# concat_ws[With Separator](\",\",\"col1\",\"col2\") will concat col1 and col2 with a comma between them\n",
    "\n",
    "df2 = df2.withColumn(\"fullName\",concat(initcap(\"firstname\"),lit(\" \"),initcap(\"LastName\")))\n",
    "df2.show()"
   ]
  },
  {
   "cell_type": "code",
   "execution_count": 0,
   "metadata": {
    "application/vnd.databricks.v1+cell": {
     "cellMetadata": {
      "byteLimit": 2048000,
      "rowLimit": 10000
     },
     "inputWidgets": {},
     "nuid": "27d09093-5e26-4fd2-b46f-501d89e9da52",
     "showTitle": false,
     "tableResultSettingsMap": {},
     "title": ""
    }
   },
   "outputs": [
    {
     "output_type": "stream",
     "name": "stdout",
     "output_type": "stream",
     "text": [
      "+--------------+--------------+-------+-----+------+--------------+--------------+--------------+---------------+\n|     firstname|      LastName|Country|State|Salary|     upperCase|     lowerCase|     titleCase|       fullName|\n+--------------+--------------+-------+-----+------+--------------+--------------+--------------+---------------+\n|         James|         Smith|    USA|   CA|  3000|         JAMES|         james|         James|    James Smith|\n|       Michael|          Rose|    USA|   NY|  2500|       MICHAEL|       michael|       Michael|   Michael Rose|\n|        Robert|      Williams|    USA|   CA|  6000|        ROBERT|        robert|        Robert|Robert Williams|\n|         Maria|  Jones       |    USA|   FL|  4000|         MARIA|         maria|         Maria|    Maria Jones|\n|         james|jones         |     UK|  LND|  8000|         JAMES|         james|         James|    James Jones|\n|          john|           doe|     UK|  LND|  4000|          JOHN|          john|          John|       John Doe|\n|        Michel|         bevon|     UK|  LND|  5000|        MICHEL|        michel|        Michel|   Michel Bevon|\n|         james|         jones|     UK|  LND|  8000|         JAMES|         james|         James|    James Jones|\n|          john|           doe|     UK|  MCR|  4000|          JOHN|          john|          John|       John Doe|\n|        Michel|         bevon|     UK|  MCR|  5000|        MICHEL|        michel|        Michel|   Michel Bevon|\n+--------------+--------------+-------+-----+------+--------------+--------------+--------------+---------------+\n\n"
     ]
    }
   ],
   "source": [
    "#removeing leading and trailing spaces\n",
    "df2 = df2.withColumn(\"fullName\",trim(\"fullName\"))\n",
    "df2.show()"
   ]
  },
  {
   "cell_type": "code",
   "execution_count": 0,
   "metadata": {
    "application/vnd.databricks.v1+cell": {
     "cellMetadata": {
      "byteLimit": 2048000,
      "rowLimit": 10000
     },
     "inputWidgets": {},
     "nuid": "3bfb5838-2873-4649-93cd-1856324767cc",
     "showTitle": false,
     "tableResultSettingsMap": {},
     "title": ""
    }
   },
   "outputs": [
    {
     "output_type": "stream",
     "name": "stdout",
     "output_type": "stream",
     "text": [
      "+--------------+--------------+-------+-----+------+-------------+\n|     firstname|      LastName|Country|State|Salary|Trimedversion|\n+--------------+--------------+-------+-----+------+-------------+\n|         James|         Smith|    USA|   CA|  3000|        Smith|\n|       Michael|          Rose|    USA|   NY|  2500|         Rose|\n|        Robert|      Williams|    USA|   CA|  6000|     Williams|\n|         Maria|  Jones       |    USA|   FL|  4000|        Jones|\n|         james|jones         |     UK|  LND|  8000|        jones|\n|          john|           doe|     UK|  LND|  4000|          doe|\n|        Michel|         bevon|     UK|  LND|  5000|        bevon|\n|         james|         jones|     UK|  LND|  8000|        jones|\n|          john|           doe|     UK|  MCR|  4000|          doe|\n|        Michel|         bevon|     UK|  MCR|  5000|        bevon|\n+--------------+--------------+-------+-----+------+-------------+\n\n"
     ]
    }
   ],
   "source": [
    "# trim the last name\n",
    "df3 = df.withColumn(\"Trimedversion\",trim(\"LastName\"))\n",
    "df3.show()"
   ]
  },
  {
   "cell_type": "code",
   "execution_count": 0,
   "metadata": {
    "application/vnd.databricks.v1+cell": {
     "cellMetadata": {
      "byteLimit": 2048000,
      "rowLimit": 10000
     },
     "inputWidgets": {},
     "nuid": "69bad587-6892-41a7-a67f-2021018b5ef3",
     "showTitle": false,
     "tableResultSettingsMap": {},
     "title": ""
    }
   },
   "outputs": [
    {
     "output_type": "stream",
     "name": "stdout",
     "output_type": "stream",
     "text": [
      "+--------------+--------------+-------+-----+------+---------------+-------------+------------+-------------+----------------+\n|     firstname|      LastName|Country|State|Salary|       FullName|First4Letters|Last4letters|MiddleLetters|3rddigit_to_rest|\n+--------------+--------------+-------+-----+------+---------------+-------------+------------+-------------+----------------+\n|         James|         Smith|    USA|   CA|  3000|    James Smith|          Jam|        mith|         mes |       mes Smith|\n|       Michael|          Rose|    USA|   NY|  2500|   Michael Rose|          Mic|        Rose|         chae|      chael Rose|\n|        Robert|      Williams|    USA|   CA|  6000|Robert Williams|          Rob|        iams|         bert|   bert Williams|\n|         Maria|  Jones       |    USA|   FL|  4000|    Maria Jones|          Mar|        ones|         ria |       ria Jones|\n|         james|jones         |     UK|  LND|  8000|    James Jones|          Jam|        ones|         mes |       mes Jones|\n|          john|           doe|     UK|  LND|  4000|       John Doe|          Joh|         Doe|         hn D|          hn Doe|\n|        Michel|         bevon|     UK|  LND|  5000|   Michel Bevon|          Mic|        evon|         chel|      chel Bevon|\n|         james|         jones|     UK|  LND|  8000|    James Jones|          Jam|        ones|         mes |       mes Jones|\n|          john|           doe|     UK|  MCR|  4000|       John Doe|          Joh|         Doe|         hn D|          hn Doe|\n|        Michel|         bevon|     UK|  MCR|  5000|   Michel Bevon|          Mic|        evon|         chel|      chel Bevon|\n+--------------+--------------+-------+-----+------+---------------+-------------+------------+-------------+----------------+\n\n"
     ]
    }
   ],
   "source": [
    "# get the left ,right and middle values of any given string\n",
    "# syntax: substring(\"<COLNMAE>\",<STARTIG_POSITION>,<LENGTH_OF_STRING>)\n",
    "df4 = df.withColumn(\"FullName\",concat(initcap(\"firstname\"),lit(\" \"),initcap(\"LastName\")))\\\n",
    "   . withColumn(\"FullName\",trim(\"FullName\"))\n",
    "df5 = df4.withColumn(\"First4Letters\",substring(\"FullName\",0,3))\\\n",
    "        .withColumn(\"Last4letters\",substring(\"FullName\",-4,4))\\\n",
    "        .withColumn(\"MiddleLetters\",substring(\"FullName\",3,4))\\\n",
    "        .withColumn(\"3rddigit_to_rest\",substring(\"FullName\",3,length(\"FullName\")))\n",
    "df5.show()"
   ]
  },
  {
   "cell_type": "code",
   "execution_count": 0,
   "metadata": {
    "application/vnd.databricks.v1+cell": {
     "cellMetadata": {
      "byteLimit": 2048000,
      "rowLimit": 10000
     },
     "inputWidgets": {},
     "nuid": "17d6bdb8-e0cd-42f2-b323-ae1755e2cfc1",
     "showTitle": false,
     "tableResultSettingsMap": {},
     "title": ""
    }
   },
   "outputs": [
    {
     "output_type": "display_data",
     "data": {
      "text/html": [
       "<style scoped>\n",
       "  .table-result-container {\n",
       "    max-height: 300px;\n",
       "    overflow: auto;\n",
       "  }\n",
       "  table, th, td {\n",
       "    border: 1px solid black;\n",
       "    border-collapse: collapse;\n",
       "  }\n",
       "  th, td {\n",
       "    padding: 5px;\n",
       "  }\n",
       "  th {\n",
       "    text-align: left;\n",
       "  }\n",
       "</style><div class='table-result-container'><table class='table-result'><thead style='background-color: white'><tr><th>firstname</th><th>LastName</th><th>Country</th><th>State</th><th>Salary</th><th>FullName</th><th>First4Letters</th><th>Last4letters</th><th>MiddleLetters</th><th>3rddigit_to_rest</th><th>length</th></tr></thead><tbody><tr><td>     James</td><td>Smith</td><td>USA</td><td>CA</td><td>3000</td><td>James Smith</td><td>Jam</td><td>mith</td><td>mes </td><td>mes Smith</td><td>11</td></tr><tr><td>Michael</td><td>Rose</td><td>USA</td><td>NY</td><td>2500</td><td>Michael Rose</td><td>Mic</td><td>Rose</td><td>chae</td><td>chael Rose</td><td>12</td></tr><tr><td>Robert</td><td>Williams</td><td>USA</td><td>CA</td><td>6000</td><td>Robert Williams</td><td>Rob</td><td>iams</td><td>bert</td><td>bert Williams</td><td>15</td></tr><tr><td>Maria</td><td>Jones       </td><td>USA</td><td>FL</td><td>4000</td><td>Maria Jones</td><td>Mar</td><td>ones</td><td>ria </td><td>ria Jones</td><td>11</td></tr><tr><td>james</td><td>jones         </td><td>UK</td><td>LND</td><td>8000</td><td>James Jones</td><td>Jam</td><td>ones</td><td>mes </td><td>mes Jones</td><td>11</td></tr><tr><td>john</td><td>doe</td><td>UK</td><td>LND</td><td>4000</td><td>John Doe</td><td>Joh</td><td> Doe</td><td>hn D</td><td>hn Doe</td><td>8</td></tr><tr><td>        Michel</td><td>bevon</td><td>UK</td><td>LND</td><td>5000</td><td>Michel Bevon</td><td>Mic</td><td>evon</td><td>chel</td><td>chel Bevon</td><td>12</td></tr><tr><td>james</td><td>jones</td><td>UK</td><td>LND</td><td>8000</td><td>James Jones</td><td>Jam</td><td>ones</td><td>mes </td><td>mes Jones</td><td>11</td></tr><tr><td>john</td><td>doe</td><td>UK</td><td>MCR</td><td>4000</td><td>John Doe</td><td>Joh</td><td> Doe</td><td>hn D</td><td>hn Doe</td><td>8</td></tr><tr><td>Michel</td><td>bevon</td><td>UK</td><td>MCR</td><td>5000</td><td>Michel Bevon</td><td>Mic</td><td>evon</td><td>chel</td><td>chel Bevon</td><td>12</td></tr></tbody></table></div>"
      ]
     },
     "metadata": {
      "application/vnd.databricks.v1+output": {
       "addedWidgets": {},
       "aggData": [],
       "aggError": "",
       "aggOverflow": false,
       "aggSchema": [],
       "aggSeriesLimitReached": false,
       "aggType": "",
       "arguments": {},
       "columnCustomDisplayInfos": {},
       "data": [
        [
         "     James",
         "Smith",
         "USA",
         "CA",
         3000,
         "James Smith",
         "Jam",
         "mith",
         "mes ",
         "mes Smith",
         11
        ],
        [
         "Michael",
         "Rose",
         "USA",
         "NY",
         2500,
         "Michael Rose",
         "Mic",
         "Rose",
         "chae",
         "chael Rose",
         12
        ],
        [
         "Robert",
         "Williams",
         "USA",
         "CA",
         6000,
         "Robert Williams",
         "Rob",
         "iams",
         "bert",
         "bert Williams",
         15
        ],
        [
         "Maria",
         "Jones       ",
         "USA",
         "FL",
         4000,
         "Maria Jones",
         "Mar",
         "ones",
         "ria ",
         "ria Jones",
         11
        ],
        [
         "james",
         "jones         ",
         "UK",
         "LND",
         8000,
         "James Jones",
         "Jam",
         "ones",
         "mes ",
         "mes Jones",
         11
        ],
        [
         "john",
         "doe",
         "UK",
         "LND",
         4000,
         "John Doe",
         "Joh",
         " Doe",
         "hn D",
         "hn Doe",
         8
        ],
        [
         "        Michel",
         "bevon",
         "UK",
         "LND",
         5000,
         "Michel Bevon",
         "Mic",
         "evon",
         "chel",
         "chel Bevon",
         12
        ],
        [
         "james",
         "jones",
         "UK",
         "LND",
         8000,
         "James Jones",
         "Jam",
         "ones",
         "mes ",
         "mes Jones",
         11
        ],
        [
         "john",
         "doe",
         "UK",
         "MCR",
         4000,
         "John Doe",
         "Joh",
         " Doe",
         "hn D",
         "hn Doe",
         8
        ],
        [
         "Michel",
         "bevon",
         "UK",
         "MCR",
         5000,
         "Michel Bevon",
         "Mic",
         "evon",
         "chel",
         "chel Bevon",
         12
        ]
       ],
       "datasetInfos": [],
       "dbfsResultPath": null,
       "isJsonSchema": true,
       "metadata": {},
       "overflow": false,
       "plotOptions": {
        "customPlotOptions": {},
        "displayType": "table",
        "pivotAggregation": null,
        "pivotColumns": null,
        "xColumns": null,
        "yColumns": null
       },
       "removedWidgets": [],
       "schema": [
        {
         "metadata": "{}",
         "name": "firstname",
         "type": "\"string\""
        },
        {
         "metadata": "{}",
         "name": "LastName",
         "type": "\"string\""
        },
        {
         "metadata": "{}",
         "name": "Country",
         "type": "\"string\""
        },
        {
         "metadata": "{}",
         "name": "State",
         "type": "\"string\""
        },
        {
         "metadata": "{}",
         "name": "Salary",
         "type": "\"long\""
        },
        {
         "metadata": "{}",
         "name": "FullName",
         "type": "\"string\""
        },
        {
         "metadata": "{}",
         "name": "First4Letters",
         "type": "\"string\""
        },
        {
         "metadata": "{}",
         "name": "Last4letters",
         "type": "\"string\""
        },
        {
         "metadata": "{}",
         "name": "MiddleLetters",
         "type": "\"string\""
        },
        {
         "metadata": "{}",
         "name": "3rddigit_to_rest",
         "type": "\"string\""
        },
        {
         "metadata": "{}",
         "name": "length",
         "type": "\"integer\""
        }
       ],
       "type": "table"
      }
     },
     "output_type": "display_data"
    }
   ],
   "source": [
    "# get the length of string\n",
    "# len(\"colname\")\n",
    "\n",
    "df6 = df5.withColumn(\n",
    "    \"length\",\n",
    "    length(\"FullName\")\n",
    ")\n",
    "display(df6)"
   ]
  },
  {
   "cell_type": "code",
   "execution_count": 0,
   "metadata": {
    "application/vnd.databricks.v1+cell": {
     "cellMetadata": {
      "byteLimit": 2048000,
      "rowLimit": 10000
     },
     "inputWidgets": {},
     "nuid": "4e420b3f-ebd5-433b-9c69-5d5e9fb8f98e",
     "showTitle": false,
     "tableResultSettingsMap": {},
     "title": ""
    }
   },
   "outputs": [
    {
     "output_type": "stream",
     "name": "stdout",
     "output_type": "stream",
     "text": [
      "+--------------+--------------+-------+-----+------+---------------+------+\n|     firstname|      LastName|Country|State|Salary|       FullName|length|\n+--------------+--------------+-------+-----+------+---------------+------+\n|         James|         Smith|    USA|   CA|  3000|    James Smith|    11|\n|       Michael|          Rose|    USA|   NY|  2500|   Michael Rose|    12|\n|        Robert|      Williams|    USA|   CA|  6000|Robert Williams|    15|\n|         Maria|  Jones       |    USA|   FL|  4000|    Maria Jones|    11|\n|         james|jones         |     UK|  LND|  8000|    James Jones|    11|\n|          john|           doe|     UK|  LND|  4000|       John Doe|     8|\n|        Michel|         bevon|     UK|  LND|  5000|   Michel Bevon|    12|\n|         james|         jones|     UK|  LND|  8000|    James Jones|    11|\n|          john|           doe|     UK|  MCR|  4000|       John Doe|     8|\n|        Michel|         bevon|     UK|  MCR|  5000|   Michel Bevon|    12|\n+--------------+--------------+-------+-----+------+---------------+------+\n\n"
     ]
    }
   ],
   "source": [
    "df6 = df.withColumn(\"FullName\",concat(initcap(\"firstname\"),lit(\" \"),initcap(\"LastName\")))\\\n",
    "   . withColumn(\"FullName\",trim(\"FullName\"))\\\n",
    "   .withColumn(\"length\",length(\"FullName\"))\n",
    "df6.show()"
   ]
  },
  {
   "cell_type": "code",
   "execution_count": 0,
   "metadata": {
    "application/vnd.databricks.v1+cell": {
     "cellMetadata": {
      "byteLimit": 2048000,
      "rowLimit": 10000
     },
     "inputWidgets": {},
     "nuid": "b319b6af-692e-4f18-9d31-acfa2a05f859",
     "showTitle": false,
     "tableResultSettingsMap": {},
     "title": ""
    }
   },
   "outputs": [
    {
     "output_type": "stream",
     "name": "stdout",
     "output_type": "stream",
     "text": [
      "+----+-----+----+--------+\n|Col1| Col2|Col3|coalesce|\n+----+-----+----+--------+\n| Ram|Kumar|NULL|     Ram|\n|NULL|Vijay| raj|   Vijay|\n|NULL| NULL| Raj|     Raj|\n+----+-----+----+--------+\n\n"
     ]
    }
   ],
   "source": [
    "list1 = [('Ram','Kumar',None),(None,'Vijay','raj'),(None,None,\"Raj\")]\n",
    "df7 = spark.createDataFrame(data=list1, schema = [\"Col1\",\"Col2\",\"Col3\"])\n",
    "df8 = df7.withColumn(\"coalesce\",coalesce(\"Col1\",\"Col2\",\"Col3\"))\n",
    "df8.show()"
   ]
  },
  {
   "cell_type": "code",
   "execution_count": 0,
   "metadata": {
    "application/vnd.databricks.v1+cell": {
     "cellMetadata": {
      "byteLimit": 2048000,
      "rowLimit": 10000
     },
     "inputWidgets": {},
     "nuid": "d437ac43-d93b-4017-b3b9-8516f365f2b4",
     "showTitle": false,
     "tableResultSettingsMap": {},
     "title": ""
    }
   },
   "outputs": [
    {
     "output_type": "stream",
     "name": "stdout",
     "output_type": "stream",
     "text": [
      "+--------------+--------------+-------+-----+------+---------------+------------------+\n|     firstname|      LastName|Country|State|Salary|       FullName|             split|\n+--------------+--------------+-------+-----+------+---------------+------------------+\n|         James|         Smith|    USA|   CA|  3000|    James Smith|    [James, Smith]|\n|       Michael|          Rose|    USA|   NY|  2500|   Michael Rose|   [Michael, Rose]|\n|        Robert|      Williams|    USA|   CA|  6000|Robert Williams|[Robert, Williams]|\n|         Maria|  Jones       |    USA|   FL|  4000|    Maria Jones|    [Maria, Jones]|\n|         james|jones         |     UK|  LND|  8000|    James Jones|    [James, Jones]|\n|          john|           doe|     UK|  LND|  4000|       John Doe|       [John, Doe]|\n|        Michel|         bevon|     UK|  LND|  5000|   Michel Bevon|   [Michel, Bevon]|\n|         james|         jones|     UK|  LND|  8000|    James Jones|    [James, Jones]|\n|          john|           doe|     UK|  MCR|  4000|       John Doe|       [John, Doe]|\n|        Michel|         bevon|     UK|  MCR|  5000|   Michel Bevon|   [Michel, Bevon]|\n+--------------+--------------+-------+-----+------+---------------+------------------+\n\n+--------------+--------------+-------+-----+------+---------------+------------------+-----------+------------+\n|     firstname|      LastName|Country|State|Salary|       FullName|             split|First_split|Second_split|\n+--------------+--------------+-------+-----+------+---------------+------------------+-----------+------------+\n|         James|         Smith|    USA|   CA|  3000|    James Smith|    [James, Smith]|      James|       Smith|\n|       Michael|          Rose|    USA|   NY|  2500|   Michael Rose|   [Michael, Rose]|    Michael|        Rose|\n|        Robert|      Williams|    USA|   CA|  6000|Robert Williams|[Robert, Williams]|     Robert|    Williams|\n|         Maria|  Jones       |    USA|   FL|  4000|    Maria Jones|    [Maria, Jones]|      Maria|       Jones|\n|         james|jones         |     UK|  LND|  8000|    James Jones|    [James, Jones]|      James|       Jones|\n|          john|           doe|     UK|  LND|  4000|       John Doe|       [John, Doe]|       John|         Doe|\n|        Michel|         bevon|     UK|  LND|  5000|   Michel Bevon|   [Michel, Bevon]|     Michel|       Bevon|\n|         james|         jones|     UK|  LND|  8000|    James Jones|    [James, Jones]|      James|       Jones|\n|          john|           doe|     UK|  MCR|  4000|       John Doe|       [John, Doe]|       John|         Doe|\n|        Michel|         bevon|     UK|  MCR|  5000|   Michel Bevon|   [Michel, Bevon]|     Michel|       Bevon|\n+--------------+--------------+-------+-----+------+---------------+------------------+-----------+------------+\n\n"
     ]
    }
   ],
   "source": [
    "df8 = df4.withColumn(\"split\",split(\"fullName\",\" \",0))\n",
    "df8.show()\n",
    "df9 = df8.withColumn(\"First_split\",df8.split[0])\\\n",
    "        .withColumn(\"Second_split\",df8.split[1])\n",
    "df9.show()\n",
    "\n"
   ]
  },
  {
   "cell_type": "code",
   "execution_count": 0,
   "metadata": {
    "application/vnd.databricks.v1+cell": {
     "cellMetadata": {
      "byteLimit": 2048000,
      "rowLimit": 10000
     },
     "inputWidgets": {},
     "nuid": "f9271c57-3e43-4cf7-bb78-2cebb42289e2",
     "showTitle": false,
     "tableResultSettingsMap": {},
     "title": ""
    }
   },
   "outputs": [
    {
     "output_type": "stream",
     "name": "stdout",
     "output_type": "stream",
     "text": [
      "+--------------+--------------+-------+-----+------+---------------+------------------+-----------+------------+--------+\n|     firstname|      LastName|Country|State|Salary|       FullName|             split|First_split|Second_split|position|\n+--------------+--------------+-------+-----+------+---------------+------------------+-----------+------------+--------+\n|         James|         Smith|    USA|   CA|  3000|    James Smith|    [James, Smith]|      James|       Smith|       2|\n|       Michael|          Rose|    USA|   NY|  2500|   Michael Rose|   [Michael, Rose]|    Michael|        Rose|       5|\n|        Robert|      Williams|    USA|   CA|  6000|Robert Williams|[Robert, Williams]|     Robert|    Williams|      13|\n|         Maria|  Jones       |    USA|   FL|  4000|    Maria Jones|    [Maria, Jones]|      Maria|       Jones|       2|\n|         james|jones         |     UK|  LND|  8000|    James Jones|    [James, Jones]|      James|       Jones|       2|\n|          john|           doe|     UK|  LND|  4000|       John Doe|       [John, Doe]|       John|         Doe|       0|\n|        Michel|         bevon|     UK|  LND|  5000|   Michel Bevon|   [Michel, Bevon]|     Michel|       Bevon|       0|\n|         james|         jones|     UK|  LND|  8000|    James Jones|    [James, Jones]|      James|       Jones|       2|\n|          john|           doe|     UK|  MCR|  4000|       John Doe|       [John, Doe]|       John|         Doe|       0|\n|        Michel|         bevon|     UK|  MCR|  5000|   Michel Bevon|   [Michel, Bevon]|     Michel|       Bevon|       0|\n+--------------+--------------+-------+-----+------+---------------+------------------+-----------+------------+--------+\n\n"
     ]
    }
   ],
   "source": [
    "# find the position of a string\n",
    "# instr function is case sensitive\n",
    "# syntax: instr(\"<COLUMN_NAME>\",\"<STRING_TO_SEARCH>\")\n",
    "df9 = df9.withColumn(\"position\",instr(\"fullName\",\"a\"))\n",
    "df9.show()"
   ]
  }
 ],
 "metadata": {
  "application/vnd.databricks.v1+notebook": {
   "computePreferences": null,
   "dashboards": [],
   "environmentMetadata": {
    "base_environment": "",
    "environment_version": "3"
   },
   "inputWidgetPreferences": null,
   "language": "python",
   "notebookMetadata": {
    "pythonIndentUnit": 4
   },
   "notebookName": "Sting functions",
   "widgets": {}
  },
  "language_info": {
   "name": "python"
  }
 },
 "nbformat": 4,
 "nbformat_minor": 0
}