{
 "cells": [
  {
   "cell_type": "code",
   "execution_count": 0,
   "metadata": {
    "application/vnd.databricks.v1+cell": {
     "cellMetadata": {
      "byteLimit": 2048000,
      "rowLimit": 10000
     },
     "inputWidgets": {},
     "nuid": "783fa253-ae14-451d-a892-b587617706b0",
     "showTitle": false,
     "tableResultSettingsMap": {},
     "title": ""
    }
   },
   "outputs": [
    {
     "output_type": "stream",
     "name": "stdout",
     "output_type": "stream",
     "text": [
      "+--------------+--------------+-------+-----+------+\n|     FirstName|      LastName|Country|State|Salary|\n+--------------+--------------+-------+-----+------+\n|         James|         Smith|    USA|   CA|  3000|\n|       Michael|          Rose|    USA|   NY|  2500|\n|        Robert|      Williams|    USA|   CA|  6000|\n|         Maria|  Jones       |    USA|   FL|  4000|\n|         james|jones         |     UK|  LND|  8000|\n|          john|           doe|     UK|  LND|  4000|\n|        Michel|         bevon|     UK|  LND|  5000|\n|         james|         jones|     UK|  LND|  8000|\n|          john|           doe|     UK|  MCR|  4000|\n|        Michel|         bevon|     UK|  MCR|  5000|\n+--------------+--------------+-------+-----+------+\n\n"
     ]
    }
   ],
   "source": [
    "from pyspark.sql.types import *\n",
    "\n",
    "staticlist =[(\"     James\",\"Smith\",\"USA\",\"CA\",3000),\n",
    "    (\"Michael\",\"Rose\",\"USA\",\"NY\",2500),\n",
    "    (\"Robert\",\"Williams\",\"USA\",\"CA\",6000),\n",
    "    (\"Maria\",\"Jones       \",\"USA\",\"FL\",4000),\n",
    "    (\"james\",\"jones         \",\"UK\",\"LND\",8000),\n",
    "    (\"john\",\"doe\",\"UK\",\"LND\",4000),\n",
    "    (\"        Michel\",\"bevon\",\"UK\",\"LND\",5000),\n",
    "    (\"james\",\"jones\",\"UK\",\"LND\",8000),\n",
    "    (\"john\",\"doe\",\"UK\",\"MCR\",4000),\n",
    "    (\"Michel\",\"bevon\",\"UK\",\"MCR\",5000),\n",
    " ]\n",
    " \n",
    "\n",
    "Structschema = StructType([ \\\n",
    "    StructField(\"FirstName\",StringType(),False), \\\n",
    "    StructField(\"LastName\",StringType(),True), \\\n",
    "    StructField(\"Country\",StringType(),False), \\\n",
    "    StructField(\"State\",StringType(),False), \\\n",
    "    StructField(\"Salary\",IntegerType(),False)\n",
    "  ])\n",
    "\n",
    "df = spark.createDataFrame(data = staticlist,schema = Structschema)\n",
    "df.show()"
   ]
  },
  {
   "cell_type": "code",
   "execution_count": 0,
   "metadata": {
    "application/vnd.databricks.v1+cell": {
     "cellMetadata": {
      "byteLimit": 2048000,
      "rowLimit": 10000
     },
     "inputWidgets": {},
     "nuid": "698766d6-d482-4e9e-b086-cfa22ce72e9e",
     "showTitle": false,
     "tableResultSettingsMap": {},
     "title": ""
    }
   },
   "outputs": [
    {
     "output_type": "stream",
     "name": "stdout",
     "output_type": "stream",
     "text": [
      "+---------+--------------+-------+-----+------+\n|FirstName|      LastName|Country|State|Salary|\n+---------+--------------+-------+-----+------+\n|   Robert|      Williams|    USA|   CA|  6000|\n|    james|jones         |     UK|  LND|  8000|\n|    james|         jones|     UK|  LND|  8000|\n+---------+--------------+-------+-----+------+\n\n+--------------+--------------+-------+-----+------+\n|     FirstName|      LastName|Country|State|Salary|\n+--------------+--------------+-------+-----+------+\n|        Robert|      Williams|    USA|   CA|  6000|\n|         james|jones         |     UK|  LND|  8000|\n|        Michel|         bevon|     UK|  LND|  5000|\n|         james|         jones|     UK|  LND|  8000|\n|        Michel|         bevon|     UK|  MCR|  5000|\n+--------------+--------------+-------+-----+------+\n\n"
     ]
    }
   ],
   "source": [
    "# place a filter where salary is above 5000 (single column filter)\n",
    "df_filter1 = df.filter(\n",
    "    \"salary > 5000\"\n",
    ")\n",
    "df_filter1.show()\n",
    "\n",
    "# place a filter where salary is 5000 and above (single column filter)\n",
    "df_filter2 = df.filter(\n",
    "    \"salary >= 5000\"\n",
    ")\n",
    "df_filter2.show()\n"
   ]
  },
  {
   "cell_type": "code",
   "execution_count": 0,
   "metadata": {
    "application/vnd.databricks.v1+cell": {
     "cellMetadata": {
      "byteLimit": 2048000,
      "rowLimit": 10000
     },
     "inputWidgets": {},
     "nuid": "a8db73ef-9c3f-4b69-8ead-37095ed6aef6",
     "showTitle": false,
     "tableResultSettingsMap": {},
     "title": ""
    }
   },
   "outputs": [
    {
     "output_type": "stream",
     "name": "stdout",
     "output_type": "stream",
     "text": [
      "+---------+--------+-------+-----+------+\n|FirstName|LastName|Country|State|Salary|\n+---------+--------+-------+-----+------+\n|   Robert|Williams|    USA|   CA|  6000|\n+---------+--------+-------+-----+------+\n\n"
     ]
    }
   ],
   "source": [
    "# Mutiple column filters\n",
    "# get employees with salary > 5000 and country is USA\n",
    "df_filter3 = df.filter(\n",
    "    \"salary > 5000 and country = 'USA'\"\n",
    ")\n",
    "df_filter3.show()"
   ]
  },
  {
   "cell_type": "code",
   "execution_count": 0,
   "metadata": {
    "application/vnd.databricks.v1+cell": {
     "cellMetadata": {
      "byteLimit": 2048000,
      "rowLimit": 10000
     },
     "inputWidgets": {},
     "nuid": "a12f37a8-c04d-49c6-8e2b-1c0324827529",
     "showTitle": false,
     "tableResultSettingsMap": {},
     "title": ""
    }
   },
   "outputs": [
    {
     "output_type": "stream",
     "name": "stdout",
     "output_type": "stream",
     "text": [
      "+---------+--------------+-------+-----+------+\n|FirstName|      LastName|Country|State|Salary|\n+---------+--------------+-------+-----+------+\n|   Robert|      Williams|    USA|   CA|  6000|\n|    james|jones         |     UK|  LND|  8000|\n|    james|         jones|     UK|  LND|  8000|\n+---------+--------------+-------+-----+------+\n\n"
     ]
    }
   ],
   "source": [
    "# opton 2  using the dataframe method\n",
    "df_filter4 = df.filter(\n",
    "    df[\"salary\"] > 5000\n",
    ")\n",
    "df_filter4.show()"
   ]
  },
  {
   "cell_type": "code",
   "execution_count": 0,
   "metadata": {
    "application/vnd.databricks.v1+cell": {
     "cellMetadata": {
      "byteLimit": 2048000,
      "rowLimit": 10000
     },
     "inputWidgets": {},
     "nuid": "ec148df6-6d26-4a89-8fbe-d5e5ec411de5",
     "showTitle": false,
     "tableResultSettingsMap": {},
     "title": ""
    }
   },
   "outputs": [
    {
     "output_type": "stream",
     "name": "stdout",
     "output_type": "stream",
     "text": [
      "+---------+--------+-------+-----+------+\n|FirstName|LastName|Country|State|Salary|\n+---------+--------+-------+-----+------+\n|   Robert|Williams|    USA|   CA|  6000|\n+---------+--------+-------+-----+------+\n\n"
     ]
    }
   ],
   "source": [
    "# option2: multiple columns\n",
    "# when using dataframe AND will be replaced with \"&\" symbol, OD will be replace with \"|\" symbol and \"=\" will be replaced with \"==\" symbol\n",
    "df_filter5 = df.filter(\n",
    "    (df[\"salary\"] > 5000) & (df[\"country\"] == \"USA\")\n",
    ")\n",
    "df_filter5.show()"
   ]
  },
  {
   "cell_type": "code",
   "execution_count": 0,
   "metadata": {
    "application/vnd.databricks.v1+cell": {
     "cellMetadata": {
      "byteLimit": 2048000,
      "rowLimit": 10000
     },
     "inputWidgets": {},
     "nuid": "78312068-b216-45f8-ade4-3d7602ac3235",
     "showTitle": false,
     "tableResultSettingsMap": {},
     "title": ""
    }
   },
   "outputs": [
    {
     "output_type": "stream",
     "name": "stdout",
     "output_type": "stream",
     "text": [
      "+--------------+--------------+-------+-----+------+\n|     FirstName|      LastName|Country|State|Salary|\n+--------------+--------------+-------+-----+------+\n|        Robert|      Williams|    USA|   CA|  6000|\n|         james|jones         |     UK|  LND|  8000|\n|          john|           doe|     UK|  LND|  4000|\n|        Michel|         bevon|     UK|  LND|  5000|\n|         james|         jones|     UK|  LND|  8000|\n|          john|           doe|     UK|  MCR|  4000|\n|        Michel|         bevon|     UK|  MCR|  5000|\n+--------------+--------------+-------+-----+------+\n\n"
     ]
    }
   ],
   "source": [
    "# Multiple columns and multiple conditions\n",
    "# if counr=try is USA then salary > 5000, if country is not USA then salary > 3000\n",
    "df_filter6 = df.filter(\n",
    "        (df[\"country\"] == \"USA\") & (df[\"salary\"] > 5000) \n",
    "    | \n",
    "        (df[\"country\"] != \"USA\") & (df[\"salary\"] > 3000)\n",
    ")\n",
    "df_filter6.show()"
   ]
  }
 ],
 "metadata": {
  "application/vnd.databricks.v1+notebook": {
   "computePreferences": null,
   "dashboards": [],
   "environmentMetadata": {
    "base_environment": "",
    "environment_version": "3"
   },
   "inputWidgetPreferences": null,
   "language": "python",
   "notebookMetadata": {
    "pythonIndentUnit": 4
   },
   "notebookName": "Filtering",
   "widgets": {}
  },
  "language_info": {
   "name": "python"
  }
 },
 "nbformat": 4,
 "nbformat_minor": 0
}