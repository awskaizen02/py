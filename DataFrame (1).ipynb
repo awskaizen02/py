{
 "cells": [
  {
   "cell_type": "markdown",
   "metadata": {
    "application/vnd.databricks.v1+cell": {
     "cellMetadata": {},
     "inputWidgets": {},
     "nuid": "d1f18bd2-74ce-469e-aa15-37a9efb05bbc",
     "showTitle": false,
     "tableResultSettingsMap": {},
     "title": ""
    }
   },
   "source": [
    "**DataFrame**"
   ]
  },
  {
   "cell_type": "code",
   "execution_count": 0,
   "metadata": {
    "application/vnd.databricks.v1+cell": {
     "cellMetadata": {},
     "inputWidgets": {},
     "nuid": "07d0ca37-48cd-40c2-b692-c59edcc79d1d",
     "showTitle": false,
     "tableResultSettingsMap": {},
     "title": ""
    }
   },
   "outputs": [],
   "source": [
    "# DataFrame is a two dimenstional table consist of rows and columns like spread sheet\n",
    "# Each column is having respective column name\n",
    "# Each row will be determined by the row number"
   ]
  },
  {
   "cell_type": "code",
   "execution_count": 0,
   "metadata": {
    "application/vnd.databricks.v1+cell": {
     "cellMetadata": {
      "byteLimit": 2048000,
      "rowLimit": 10000
     },
     "inputWidgets": {},
     "nuid": "c7d6455c-3e16-44d2-a63c-4a5bc694f947",
     "showTitle": false,
     "tableResultSettingsMap": {},
     "title": ""
    }
   },
   "outputs": [
    {
     "output_type": "stream",
     "name": "stdout",
     "output_type": "stream",
     "text": [
      "+---+--------+\n| ID|    NAME|\n+---+--------+\n|101|  Anusha|\n|102|Kompalli|\n+---+--------+\n\n"
     ]
    },
    {
     "output_type": "execute_result",
     "data": {
      "text/plain": [
       "pyspark.sql.connect.dataframe.DataFrame"
      ]
     },
     "execution_count": 2,
     "metadata": {},
     "output_type": "execute_result"
    }
   ],
   "source": [
    "# careat a dataframe from a static list\n",
    "list1 = [(101,'Anusha'),(102,'Kompalli')]\n",
    "col_name = ['ID','NAME']\n",
    "df = spark.createDataFrame(data = list1 ,schema=col_name)\n",
    "df.show()\n",
    "type(df)"
   ]
  },
  {
   "cell_type": "code",
   "execution_count": 0,
   "metadata": {
    "application/vnd.databricks.v1+cell": {
     "cellMetadata": {},
     "inputWidgets": {},
     "nuid": "7705e62f-4e6a-408a-b542-58791e2d4234",
     "showTitle": false,
     "tableResultSettingsMap": {},
     "title": ""
    }
   },
   "outputs": [],
   "source": [
    "# https://spark.apache.org/docs/latest/sql-data-sources-load-save-functions.html"
   ]
  },
  {
   "cell_type": "code",
   "execution_count": 0,
   "metadata": {
    "application/vnd.databricks.v1+cell": {
     "cellMetadata": {
      "byteLimit": 2048000,
      "rowLimit": 10000
     },
     "inputWidgets": {},
     "nuid": "00ffc046-08a8-420d-a8ef-d9ac29c3cd22",
     "showTitle": false,
     "tableResultSettingsMap": {},
     "title": ""
    }
   },
   "outputs": [
    {
     "output_type": "stream",
     "name": "stdout",
     "output_type": "stream",
     "text": [
      "+------------+----------+--------------+------+---+--------------------+--------------------+--------------------+--------------------+-----------------+-------------+--------------+---------------+-------------------+-------------+\n|         _c0|       _c1|           _c2|   _c3|_c4|                 _c5|                 _c6|                 _c7|                 _c8|              _c9|         _c10|          _c11|           _c12|               _c13|         _c14|\n+------------+----------+--------------+------+---+--------------------+--------------------+--------------------+--------------------+-----------------+-------------+--------------+---------------+-------------------+-------------+\n|Passenger ID|First Name|     Last Name|Gender|Age|         Nationality|        Airport Name|Airport Country Code|        Country Name|Airport Continent|   Continents|Departure Date|Arrival Airport|         Pilot Name|Flight Status|\n|      ABVWIg|    Edithe|        Leggis|Female| 62|               Japan|    Coldfoot Airport|                  US|       United States|              NAM|North America|     6/28/2022|            CXF|      Edithe Leggis|      On Time|\n|      jkXXAX|    Elwood|          Catt|  Male| 62|           Nicaragua|   Kugluktuk Airport|                  CA|              Canada|              NAM|North America|    12/26/2022|            YCO|        Elwood Catt|      On Time|\n|      CdUz2g|     Darby|       Felgate|  Male| 67|              Russia|Grenoble-Isère Ai...|                  FR|              France|               EU|       Europe|     1/18/2022|            GNB|      Darby Felgate|      On Time|\n|      BRS38V|  Dominica|          Pyle|Female| 71|               China|Ottawa / Gatineau...|                  CA|              Canada|              NAM|North America|     9/16/2022|            YND|      Dominica Pyle|      Delayed|\n|      9kvTLo|       Bay|       Pencost|  Male| 21|               China|     Gillespie Field|                  US|       United States|              NAM|North America|     2/25/2022|            SEE|        Bay Pencost|      On Time|\n|      nMJKVh|      Lora|       Durbann|Female| 55|              Brazil|Coronel Horácio d...|                  BR|              Brazil|              SAM|South America|     6/10/2022|            LEC|       Lora Durbann|      On Time|\n|      8IPFPE|      Rand|          Bram|  Male| 73|         Ivory Coast|   Duxford Aerodrome|                  GB|      United Kingdom|               EU|       Europe|    10/30/2022|            QFO|          Rand Bram|    Cancelled|\n|      pqixbY|  Perceval|      Dallosso|  Male| 36|             Vietnam|Maestro Wilson Fo...|                  BR|              Brazil|              SAM|South America|      4/7/2022|            STM|  Perceval Dallosso|    Cancelled|\n|      QNAs2R|     Aleda|        Pigram|Female| 35|Palestinian Terri...|Venice Marco Polo...|                  IT|               Italy|               EU|       Europe|     8/20/2022|            VCE|       Aleda Pigram|      On Time|\n|      3jmudz|    Burlie|       Schustl|  Male| 13|            Thailand|   Vermilion Airport|                  CA|              Canada|              NAM|North America|      4/6/2022|            YVG|     Burlie Schustl|      On Time|\n|      2P41gZ|     Porty|          Jori|  Male| 39|             Tunisia|Nuevo Casas Grand...|                  MX|              Mexico|              NAM|North America|     5/27/2022|            NCG|         Porty Jori|    Cancelled|\n|      sBf524|    Briant|    De La Haye|  Male| 71|              Russia| Ruben Cantu Airport|                  PA|              Panama|              NAM|North America|      2/6/2022|            SYP|  Briant De La Haye|      Delayed|\n|      PlwJZT|     Kalie|        Scoble|Female| 47|              Sweden|     Loralai Airport|                  PK|            Pakistan|               AS|         Asia|     3/19/2022|            LRG|       Kalie Scoble|      Delayed|\n|      iU75x3|  Catriona|      Beaument|Female| 77|              Russia|       Cudal Airport|                  AU|           Australia|               OC|      Oceania|     3/24/2022|            CUG|  Catriona Beaument|      Delayed|\n|      GUta6R|   Amberly|      Handling|Female| 32|               China|Farmington Region...|                  US|       United States|              NAM|North America|      3/7/2022|            FAM|   Amberly Handling|      Delayed|\n|      8qA80a|      Dyna|De'Vere - Hunt|Female| 22|               China|  Oudtshoorn Airport|                  ZA|        South Africa|               AF|       Africa|     7/18/2022|            OUH|Dyna De'Vere - Hunt|    Cancelled|\n|      2haCDu|   Janella|      Hardaker|Female| 28|            Colombia|      Zaraza Airport|                  VE|Venezuela, Boliva...|              SAM|South America|     9/23/2022|            ZRZ|   Janella Hardaker|      On Time|\n|      WiVl8o|     Alvin|        Wenzel|  Male| 12|              Greece|       Enshi Airport|                  CN|               China|               AS|         Asia|     3/29/2022|            ENH|       Alvin Wenzel|      Delayed|\n|      e0H5LI|   Jerrine|       Peeters|Female| 87|         Philippines|    Thompson Airport|                  CA|              Canada|              NAM|North America|     11/3/2022|            YTH|    Jerrine Peeters|    Cancelled|\n+------------+----------+--------------+------+---+--------------------+--------------------+--------------------+--------------------+-----------------+-------------+--------------+---------------+-------------------+-------------+\nonly showing top 20 rows\n"
     ]
    }
   ],
   "source": [
    "# Create a dataframe from csv file loaced in the volume\n",
    "file_path = '/Volumes/workspace/mclass/batch/Airline Dataset Updated.csv'\n",
    "df = spark.read.format('csv').load(file_path)\n",
    "df.show()"
   ]
  },
  {
   "cell_type": "code",
   "execution_count": 0,
   "metadata": {
    "application/vnd.databricks.v1+cell": {
     "cellMetadata": {
      "byteLimit": 2048000,
      "rowLimit": 10000
     },
     "inputWidgets": {},
     "nuid": "fc7fb476-e521-4e80-943e-46b508a93345",
     "showTitle": false,
     "tableResultSettingsMap": {},
     "title": ""
    }
   },
   "outputs": [
    {
     "output_type": "stream",
     "name": "stdout",
     "output_type": "stream",
     "text": [
      "+------------+----------+--------------+------+---+--------------------+--------------------+--------------------+--------------------+-----------------+-------------+--------------+---------------+-------------------+-------------+\n|Passenger ID|First Name|     Last Name|Gender|Age|         Nationality|        Airport Name|Airport Country Code|        Country Name|Airport Continent|   Continents|Departure Date|Arrival Airport|         Pilot Name|Flight Status|\n+------------+----------+--------------+------+---+--------------------+--------------------+--------------------+--------------------+-----------------+-------------+--------------+---------------+-------------------+-------------+\n|      ABVWIg|    Edithe|        Leggis|Female| 62|               Japan|    Coldfoot Airport|                  US|       United States|              NAM|North America|     6/28/2022|            CXF|      Edithe Leggis|      On Time|\n|      jkXXAX|    Elwood|          Catt|  Male| 62|           Nicaragua|   Kugluktuk Airport|                  CA|              Canada|              NAM|North America|    12/26/2022|            YCO|        Elwood Catt|      On Time|\n|      CdUz2g|     Darby|       Felgate|  Male| 67|              Russia|Grenoble-Isère Ai...|                  FR|              France|               EU|       Europe|     1/18/2022|            GNB|      Darby Felgate|      On Time|\n|      BRS38V|  Dominica|          Pyle|Female| 71|               China|Ottawa / Gatineau...|                  CA|              Canada|              NAM|North America|     9/16/2022|            YND|      Dominica Pyle|      Delayed|\n|      9kvTLo|       Bay|       Pencost|  Male| 21|               China|     Gillespie Field|                  US|       United States|              NAM|North America|     2/25/2022|            SEE|        Bay Pencost|      On Time|\n|      nMJKVh|      Lora|       Durbann|Female| 55|              Brazil|Coronel Horácio d...|                  BR|              Brazil|              SAM|South America|     6/10/2022|            LEC|       Lora Durbann|      On Time|\n|      8IPFPE|      Rand|          Bram|  Male| 73|         Ivory Coast|   Duxford Aerodrome|                  GB|      United Kingdom|               EU|       Europe|    10/30/2022|            QFO|          Rand Bram|    Cancelled|\n|      pqixbY|  Perceval|      Dallosso|  Male| 36|             Vietnam|Maestro Wilson Fo...|                  BR|              Brazil|              SAM|South America|      4/7/2022|            STM|  Perceval Dallosso|    Cancelled|\n|      QNAs2R|     Aleda|        Pigram|Female| 35|Palestinian Terri...|Venice Marco Polo...|                  IT|               Italy|               EU|       Europe|     8/20/2022|            VCE|       Aleda Pigram|      On Time|\n|      3jmudz|    Burlie|       Schustl|  Male| 13|            Thailand|   Vermilion Airport|                  CA|              Canada|              NAM|North America|      4/6/2022|            YVG|     Burlie Schustl|      On Time|\n|      2P41gZ|     Porty|          Jori|  Male| 39|             Tunisia|Nuevo Casas Grand...|                  MX|              Mexico|              NAM|North America|     5/27/2022|            NCG|         Porty Jori|    Cancelled|\n|      sBf524|    Briant|    De La Haye|  Male| 71|              Russia| Ruben Cantu Airport|                  PA|              Panama|              NAM|North America|      2/6/2022|            SYP|  Briant De La Haye|      Delayed|\n|      PlwJZT|     Kalie|        Scoble|Female| 47|              Sweden|     Loralai Airport|                  PK|            Pakistan|               AS|         Asia|     3/19/2022|            LRG|       Kalie Scoble|      Delayed|\n|      iU75x3|  Catriona|      Beaument|Female| 77|              Russia|       Cudal Airport|                  AU|           Australia|               OC|      Oceania|     3/24/2022|            CUG|  Catriona Beaument|      Delayed|\n|      GUta6R|   Amberly|      Handling|Female| 32|               China|Farmington Region...|                  US|       United States|              NAM|North America|      3/7/2022|            FAM|   Amberly Handling|      Delayed|\n|      8qA80a|      Dyna|De'Vere - Hunt|Female| 22|               China|  Oudtshoorn Airport|                  ZA|        South Africa|               AF|       Africa|     7/18/2022|            OUH|Dyna De'Vere - Hunt|    Cancelled|\n|      2haCDu|   Janella|      Hardaker|Female| 28|            Colombia|      Zaraza Airport|                  VE|Venezuela, Boliva...|              SAM|South America|     9/23/2022|            ZRZ|   Janella Hardaker|      On Time|\n|      WiVl8o|     Alvin|        Wenzel|  Male| 12|              Greece|       Enshi Airport|                  CN|               China|               AS|         Asia|     3/29/2022|            ENH|       Alvin Wenzel|      Delayed|\n|      e0H5LI|   Jerrine|       Peeters|Female| 87|         Philippines|    Thompson Airport|                  CA|              Canada|              NAM|North America|     11/3/2022|            YTH|    Jerrine Peeters|    Cancelled|\n|      nL8kyD|    Warner|       Driutti|  Male| 62|               China|Guilin Liangjiang...|                  CN|               China|               AS|         Asia|      9/5/2022|            KWL|     Warner Driutti|    Cancelled|\n+------------+----------+--------------+------+---+--------------------+--------------------+--------------------+--------------------+-----------------+-------------+--------------+---------------+-------------------+-------------+\nonly showing top 20 rows\n"
     ]
    }
   ],
   "source": [
    "# Create a dataframe from csv file loaced in the volume\n",
    "file_path = '/Volumes/workspace/mclass/batch/Airline Dataset Updated.csv'\n",
    "df = spark.read.format('csv').option('header','true').load(file_path)\n",
    "df.show()"
   ]
  },
  {
   "cell_type": "code",
   "execution_count": 0,
   "metadata": {
    "application/vnd.databricks.v1+cell": {
     "cellMetadata": {
      "byteLimit": 2048000,
      "rowLimit": 10000
     },
     "inputWidgets": {},
     "nuid": "32f481a8-647a-45bd-895a-ef4fc488eaad",
     "showTitle": false,
     "tableResultSettingsMap": {},
     "title": ""
    }
   },
   "outputs": [
    {
     "output_type": "stream",
     "name": "stdout",
     "output_type": "stream",
     "text": [
      "+-----------+--------+------+--------------------+------+----+-----+-----+----------------+-------+-----+--------+\n|PassengerId|Survived|Pclass|                Name|   Sex| Age|SibSp|Parch|          Ticket|   Fare|Cabin|Embarked|\n+-----------+--------+------+--------------------+------+----+-----+-----+----------------+-------+-----+--------+\n|          1|       0|     3|Braund, Mr. Owen ...|  male|22.0|    1|    0|       A/5 21171|   7.25| NULL|       S|\n|          2|       1|     1|Cumings, Mrs. Joh...|female|38.0|    1|    0|        PC 17599|71.2833|  C85|       C|\n|          3|       1|     3|Heikkinen, Miss. ...|female|26.0|    0|    0|STON/O2. 3101282|  7.925| NULL|       S|\n|          4|       1|     1|Futrelle, Mrs. Ja...|female|35.0|    1|    0|          113803|   53.1| C123|       S|\n|          5|       0|     3|Allen, Mr. Willia...|  male|35.0|    0|    0|          373450|   8.05| NULL|       S|\n|          6|       0|     3|    Moran, Mr. James|  male|NULL|    0|    0|          330877| 8.4583| NULL|       Q|\n|          7|       0|     1|McCarthy, Mr. Tim...|  male|54.0|    0|    0|           17463|51.8625|  E46|       S|\n|          8|       0|     3|Palsson, Master. ...|  male| 2.0|    3|    1|          349909| 21.075| NULL|       S|\n|          9|       1|     3|Johnson, Mrs. Osc...|female|27.0|    0|    2|          347742|11.1333| NULL|       S|\n|         10|       1|     2|Nasser, Mrs. Nich...|female|14.0|    1|    0|          237736|30.0708| NULL|       C|\n|         11|       1|     3|Sandstrom, Miss. ...|female| 4.0|    1|    1|         PP 9549|   16.7|   G6|       S|\n|         12|       1|     1|Bonnell, Miss. El...|female|58.0|    0|    0|          113783|  26.55| C103|       S|\n|         13|       0|     3|Saundercock, Mr. ...|  male|20.0|    0|    0|       A/5. 2151|   8.05| NULL|       S|\n|         14|       0|     3|Andersson, Mr. An...|  male|39.0|    1|    5|          347082| 31.275| NULL|       S|\n|         15|       0|     3|Vestrom, Miss. Hu...|female|14.0|    0|    0|          350406| 7.8542| NULL|       S|\n|         16|       1|     2|Hewlett, Mrs. (Ma...|female|55.0|    0|    0|          248706|   16.0| NULL|       S|\n|         17|       0|     3|Rice, Master. Eugene|  male| 2.0|    4|    1|          382652| 29.125| NULL|       Q|\n|         18|       1|     2|Williams, Mr. Cha...|  male|NULL|    0|    0|          244373|   13.0| NULL|       S|\n|         19|       0|     3|Vander Planke, Mr...|female|31.0|    1|    0|          345763|   18.0| NULL|       S|\n|         20|       1|     3|Masselmani, Mrs. ...|female|NULL|    0|    0|            2649|  7.225| NULL|       C|\n+-----------+--------+------+--------------------+------+----+-----+-----+----------------+-------+-----+--------+\nonly showing top 20 rows\n"
     ]
    }
   ],
   "source": [
    "#read a file from a parquet file\n",
    "\n",
    "file_path = '/Volumes/workspace/mclass/batch/titanic.parquet'\n",
    "df = spark.read.format('parquet').load(file_path)\n",
    "df.show()"
   ]
  },
  {
   "cell_type": "code",
   "execution_count": 0,
   "metadata": {
    "application/vnd.databricks.v1+cell": {
     "cellMetadata": {
      "byteLimit": 2048000,
      "rowLimit": 10000
     },
     "inputWidgets": {},
     "nuid": "9994bd27-a758-4768-8175-bbf92867b54c",
     "showTitle": false,
     "tableResultSettingsMap": {},
     "title": ""
    }
   },
   "outputs": [
    {
     "output_type": "display_data",
     "data": {
      "text/html": [
       "<style scoped>\n",
       "  .table-result-container {\n",
       "    max-height: 300px;\n",
       "    overflow: auto;\n",
       "  }\n",
       "  table, th, td {\n",
       "    border: 1px solid black;\n",
       "    border-collapse: collapse;\n",
       "  }\n",
       "  th, td {\n",
       "    padding: 5px;\n",
       "  }\n",
       "  th {\n",
       "    text-align: left;\n",
       "  }\n",
       "</style><div class='table-result-container'><table class='table-result'><thead style='background-color: white'><tr><th>   5.1000000e+00   3.5000000e+00   1.4000000e+00   2.0000000e-01   0.0000000e+00</th></tr></thead><tbody><tr><td>   4.9000000e+00   3.0000000e+00   1.4000000e+00   2.0000000e-01   0.0000000e+00</td></tr><tr><td>   4.7000000e+00   3.2000000e+00   1.3000000e+00   2.0000000e-01   0.0000000e+00</td></tr><tr><td>   4.6000000e+00   3.1000000e+00   1.5000000e+00   2.0000000e-01   0.0000000e+00</td></tr><tr><td>   5.0000000e+00   3.6000000e+00   1.4000000e+00   2.0000000e-01   0.0000000e+00</td></tr><tr><td>   5.4000000e+00   3.9000000e+00   1.7000000e+00   4.0000000e-01   0.0000000e+00</td></tr><tr><td>   4.6000000e+00   3.4000000e+00   1.4000000e+00   3.0000000e-01   0.0000000e+00</td></tr><tr><td>   5.0000000e+00   3.4000000e+00   1.5000000e+00   2.0000000e-01   0.0000000e+00</td></tr><tr><td>   4.4000000e+00   2.9000000e+00   1.4000000e+00   2.0000000e-01   0.0000000e+00</td></tr><tr><td>   4.9000000e+00   3.1000000e+00   1.5000000e+00   1.0000000e-01   0.0000000e+00</td></tr><tr><td>   5.4000000e+00   3.7000000e+00   1.5000000e+00   2.0000000e-01   0.0000000e+00</td></tr><tr><td>   4.8000000e+00   3.4000000e+00   1.6000000e+00   2.0000000e-01   0.0000000e+00</td></tr><tr><td>   4.8000000e+00   3.0000000e+00   1.4000000e+00   1.0000000e-01   0.0000000e+00</td></tr><tr><td>   4.3000000e+00   3.0000000e+00   1.1000000e+00   1.0000000e-01   0.0000000e+00</td></tr><tr><td>   5.8000000e+00   4.0000000e+00   1.2000000e+00   2.0000000e-01   0.0000000e+00</td></tr><tr><td>   5.7000000e+00   4.4000000e+00   1.5000000e+00   4.0000000e-01   0.0000000e+00</td></tr><tr><td>   5.4000000e+00   3.9000000e+00   1.3000000e+00   4.0000000e-01   0.0000000e+00</td></tr><tr><td>   5.1000000e+00   3.5000000e+00   1.4000000e+00   3.0000000e-01   0.0000000e+00</td></tr><tr><td>   5.7000000e+00   3.8000000e+00   1.7000000e+00   3.0000000e-01   0.0000000e+00</td></tr><tr><td>   5.1000000e+00   3.8000000e+00   1.5000000e+00   3.0000000e-01   0.0000000e+00</td></tr><tr><td>   5.4000000e+00   3.4000000e+00   1.7000000e+00   2.0000000e-01   0.0000000e+00</td></tr><tr><td>   5.1000000e+00   3.7000000e+00   1.5000000e+00   4.0000000e-01   0.0000000e+00</td></tr><tr><td>   4.6000000e+00   3.6000000e+00   1.0000000e+00   2.0000000e-01   0.0000000e+00</td></tr><tr><td>   5.1000000e+00   3.3000000e+00   1.7000000e+00   5.0000000e-01   0.0000000e+00</td></tr><tr><td>   4.8000000e+00   3.4000000e+00   1.9000000e+00   2.0000000e-01   0.0000000e+00</td></tr><tr><td>   5.0000000e+00   3.0000000e+00   1.6000000e+00   2.0000000e-01   0.0000000e+00</td></tr><tr><td>   5.0000000e+00   3.4000000e+00   1.6000000e+00   4.0000000e-01   0.0000000e+00</td></tr><tr><td>   5.2000000e+00   3.5000000e+00   1.5000000e+00   2.0000000e-01   0.0000000e+00</td></tr><tr><td>   5.2000000e+00   3.4000000e+00   1.4000000e+00   2.0000000e-01   0.0000000e+00</td></tr><tr><td>   4.7000000e+00   3.2000000e+00   1.6000000e+00   2.0000000e-01   0.0000000e+00</td></tr><tr><td>   4.8000000e+00   3.1000000e+00   1.6000000e+00   2.0000000e-01   0.0000000e+00</td></tr><tr><td>   5.4000000e+00   3.4000000e+00   1.5000000e+00   4.0000000e-01   0.0000000e+00</td></tr><tr><td>   5.2000000e+00   4.1000000e+00   1.5000000e+00   1.0000000e-01   0.0000000e+00</td></tr><tr><td>   5.5000000e+00   4.2000000e+00   1.4000000e+00   2.0000000e-01   0.0000000e+00</td></tr><tr><td>   4.9000000e+00   3.1000000e+00   1.5000000e+00   1.0000000e-01   0.0000000e+00</td></tr><tr><td>   5.0000000e+00   3.2000000e+00   1.2000000e+00   2.0000000e-01   0.0000000e+00</td></tr><tr><td>   5.5000000e+00   3.5000000e+00   1.3000000e+00   2.0000000e-01   0.0000000e+00</td></tr><tr><td>   4.9000000e+00   3.1000000e+00   1.5000000e+00   1.0000000e-01   0.0000000e+00</td></tr><tr><td>   4.4000000e+00   3.0000000e+00   1.3000000e+00   2.0000000e-01   0.0000000e+00</td></tr><tr><td>   5.1000000e+00   3.4000000e+00   1.5000000e+00   2.0000000e-01   0.0000000e+00</td></tr><tr><td>   5.0000000e+00   3.5000000e+00   1.3000000e+00   3.0000000e-01   0.0000000e+00</td></tr><tr><td>   4.5000000e+00   2.3000000e+00   1.3000000e+00   3.0000000e-01   0.0000000e+00</td></tr><tr><td>   4.4000000e+00   3.2000000e+00   1.3000000e+00   2.0000000e-01   0.0000000e+00</td></tr><tr><td>   5.0000000e+00   3.5000000e+00   1.6000000e+00   6.0000000e-01   0.0000000e+00</td></tr><tr><td>   5.1000000e+00   3.8000000e+00   1.9000000e+00   4.0000000e-01   0.0000000e+00</td></tr><tr><td>   4.8000000e+00   3.0000000e+00   1.4000000e+00   3.0000000e-01   0.0000000e+00</td></tr><tr><td>   5.1000000e+00   3.8000000e+00   1.6000000e+00   2.0000000e-01   0.0000000e+00</td></tr><tr><td>   4.6000000e+00   3.2000000e+00   1.4000000e+00   2.0000000e-01   0.0000000e+00</td></tr><tr><td>   5.3000000e+00   3.7000000e+00   1.5000000e+00   2.0000000e-01   0.0000000e+00</td></tr><tr><td>   5.0000000e+00   3.3000000e+00   1.4000000e+00   2.0000000e-01   0.0000000e+00</td></tr><tr><td>   7.0000000e+00   3.2000000e+00   4.7000000e+00   1.4000000e+00   1.0000000e+00</td></tr><tr><td>   6.4000000e+00   3.2000000e+00   4.5000000e+00   1.5000000e+00   1.0000000e+00</td></tr><tr><td>   6.9000000e+00   3.1000000e+00   4.9000000e+00   1.5000000e+00   1.0000000e+00</td></tr><tr><td>   5.5000000e+00   2.3000000e+00   4.0000000e+00   1.3000000e+00   1.0000000e+00</td></tr><tr><td>   6.5000000e+00   2.8000000e+00   4.6000000e+00   1.5000000e+00   1.0000000e+00</td></tr><tr><td>   5.7000000e+00   2.8000000e+00   4.5000000e+00   1.3000000e+00   1.0000000e+00</td></tr><tr><td>   6.3000000e+00   3.3000000e+00   4.7000000e+00   1.6000000e+00   1.0000000e+00</td></tr><tr><td>   4.9000000e+00   2.4000000e+00   3.3000000e+00   1.0000000e+00   1.0000000e+00</td></tr><tr><td>   6.6000000e+00   2.9000000e+00   4.6000000e+00   1.3000000e+00   1.0000000e+00</td></tr><tr><td>   5.2000000e+00   2.7000000e+00   3.9000000e+00   1.4000000e+00   1.0000000e+00</td></tr><tr><td>   5.0000000e+00   2.0000000e+00   3.5000000e+00   1.0000000e+00   1.0000000e+00</td></tr><tr><td>   5.9000000e+00   3.0000000e+00   4.2000000e+00   1.5000000e+00   1.0000000e+00</td></tr><tr><td>   6.0000000e+00   2.2000000e+00   4.0000000e+00   1.0000000e+00   1.0000000e+00</td></tr><tr><td>   6.1000000e+00   2.9000000e+00   4.7000000e+00   1.4000000e+00   1.0000000e+00</td></tr><tr><td>   5.6000000e+00   2.9000000e+00   3.6000000e+00   1.3000000e+00   1.0000000e+00</td></tr><tr><td>   6.7000000e+00   3.1000000e+00   4.4000000e+00   1.4000000e+00   1.0000000e+00</td></tr><tr><td>   5.6000000e+00   3.0000000e+00   4.5000000e+00   1.5000000e+00   1.0000000e+00</td></tr><tr><td>   5.8000000e+00   2.7000000e+00   4.1000000e+00   1.0000000e+00   1.0000000e+00</td></tr><tr><td>   6.2000000e+00   2.2000000e+00   4.5000000e+00   1.5000000e+00   1.0000000e+00</td></tr><tr><td>   5.6000000e+00   2.5000000e+00   3.9000000e+00   1.1000000e+00   1.0000000e+00</td></tr><tr><td>   5.9000000e+00   3.2000000e+00   4.8000000e+00   1.8000000e+00   1.0000000e+00</td></tr><tr><td>   6.1000000e+00   2.8000000e+00   4.0000000e+00   1.3000000e+00   1.0000000e+00</td></tr><tr><td>   6.3000000e+00   2.5000000e+00   4.9000000e+00   1.5000000e+00   1.0000000e+00</td></tr><tr><td>   6.1000000e+00   2.8000000e+00   4.7000000e+00   1.2000000e+00   1.0000000e+00</td></tr><tr><td>   6.4000000e+00   2.9000000e+00   4.3000000e+00   1.3000000e+00   1.0000000e+00</td></tr><tr><td>   6.6000000e+00   3.0000000e+00   4.4000000e+00   1.4000000e+00   1.0000000e+00</td></tr><tr><td>   6.8000000e+00   2.8000000e+00   4.8000000e+00   1.4000000e+00   1.0000000e+00</td></tr><tr><td>   6.7000000e+00   3.0000000e+00   5.0000000e+00   1.7000000e+00   1.0000000e+00</td></tr><tr><td>   6.0000000e+00   2.9000000e+00   4.5000000e+00   1.5000000e+00   1.0000000e+00</td></tr><tr><td>   5.7000000e+00   2.6000000e+00   3.5000000e+00   1.0000000e+00   1.0000000e+00</td></tr><tr><td>   5.5000000e+00   2.4000000e+00   3.8000000e+00   1.1000000e+00   1.0000000e+00</td></tr><tr><td>   5.5000000e+00   2.4000000e+00   3.7000000e+00   1.0000000e+00   1.0000000e+00</td></tr><tr><td>   5.8000000e+00   2.7000000e+00   3.9000000e+00   1.2000000e+00   1.0000000e+00</td></tr><tr><td>   6.0000000e+00   2.7000000e+00   5.1000000e+00   1.6000000e+00   1.0000000e+00</td></tr><tr><td>   5.4000000e+00   3.0000000e+00   4.5000000e+00   1.5000000e+00   1.0000000e+00</td></tr><tr><td>   6.0000000e+00   3.4000000e+00   4.5000000e+00   1.6000000e+00   1.0000000e+00</td></tr><tr><td>   6.7000000e+00   3.1000000e+00   4.7000000e+00   1.5000000e+00   1.0000000e+00</td></tr><tr><td>   6.3000000e+00   2.3000000e+00   4.4000000e+00   1.3000000e+00   1.0000000e+00</td></tr><tr><td>   5.6000000e+00   3.0000000e+00   4.1000000e+00   1.3000000e+00   1.0000000e+00</td></tr><tr><td>   5.5000000e+00   2.5000000e+00   4.0000000e+00   1.3000000e+00   1.0000000e+00</td></tr><tr><td>   5.5000000e+00   2.6000000e+00   4.4000000e+00   1.2000000e+00   1.0000000e+00</td></tr><tr><td>   6.1000000e+00   3.0000000e+00   4.6000000e+00   1.4000000e+00   1.0000000e+00</td></tr><tr><td>   5.8000000e+00   2.6000000e+00   4.0000000e+00   1.2000000e+00   1.0000000e+00</td></tr><tr><td>   5.0000000e+00   2.3000000e+00   3.3000000e+00   1.0000000e+00   1.0000000e+00</td></tr><tr><td>   5.6000000e+00   2.7000000e+00   4.2000000e+00   1.3000000e+00   1.0000000e+00</td></tr><tr><td>   5.7000000e+00   3.0000000e+00   4.2000000e+00   1.2000000e+00   1.0000000e+00</td></tr><tr><td>   5.7000000e+00   2.9000000e+00   4.2000000e+00   1.3000000e+00   1.0000000e+00</td></tr><tr><td>   6.2000000e+00   2.9000000e+00   4.3000000e+00   1.3000000e+00   1.0000000e+00</td></tr><tr><td>   5.1000000e+00   2.5000000e+00   3.0000000e+00   1.1000000e+00   1.0000000e+00</td></tr><tr><td>   5.7000000e+00   2.8000000e+00   4.1000000e+00   1.3000000e+00   1.0000000e+00</td></tr><tr><td>   6.3000000e+00   3.3000000e+00   6.0000000e+00   2.5000000e+00   2.0000000e+00</td></tr><tr><td>   5.8000000e+00   2.7000000e+00   5.1000000e+00   1.9000000e+00   2.0000000e+00</td></tr><tr><td>   7.1000000e+00   3.0000000e+00   5.9000000e+00   2.1000000e+00   2.0000000e+00</td></tr><tr><td>   6.3000000e+00   2.9000000e+00   5.6000000e+00   1.8000000e+00   2.0000000e+00</td></tr><tr><td>   6.5000000e+00   3.0000000e+00   5.8000000e+00   2.2000000e+00   2.0000000e+00</td></tr><tr><td>   7.6000000e+00   3.0000000e+00   6.6000000e+00   2.1000000e+00   2.0000000e+00</td></tr><tr><td>   4.9000000e+00   2.5000000e+00   4.5000000e+00   1.7000000e+00   2.0000000e+00</td></tr><tr><td>   7.3000000e+00   2.9000000e+00   6.3000000e+00   1.8000000e+00   2.0000000e+00</td></tr><tr><td>   6.7000000e+00   2.5000000e+00   5.8000000e+00   1.8000000e+00   2.0000000e+00</td></tr><tr><td>   7.2000000e+00   3.6000000e+00   6.1000000e+00   2.5000000e+00   2.0000000e+00</td></tr><tr><td>   6.5000000e+00   3.2000000e+00   5.1000000e+00   2.0000000e+00   2.0000000e+00</td></tr><tr><td>   6.4000000e+00   2.7000000e+00   5.3000000e+00   1.9000000e+00   2.0000000e+00</td></tr><tr><td>   6.8000000e+00   3.0000000e+00   5.5000000e+00   2.1000000e+00   2.0000000e+00</td></tr><tr><td>   5.7000000e+00   2.5000000e+00   5.0000000e+00   2.0000000e+00   2.0000000e+00</td></tr><tr><td>   5.8000000e+00   2.8000000e+00   5.1000000e+00   2.4000000e+00   2.0000000e+00</td></tr><tr><td>   6.4000000e+00   3.2000000e+00   5.3000000e+00   2.3000000e+00   2.0000000e+00</td></tr><tr><td>   6.5000000e+00   3.0000000e+00   5.5000000e+00   1.8000000e+00   2.0000000e+00</td></tr><tr><td>   7.7000000e+00   3.8000000e+00   6.7000000e+00   2.2000000e+00   2.0000000e+00</td></tr><tr><td>   7.7000000e+00   2.6000000e+00   6.9000000e+00   2.3000000e+00   2.0000000e+00</td></tr><tr><td>   6.0000000e+00   2.2000000e+00   5.0000000e+00   1.5000000e+00   2.0000000e+00</td></tr><tr><td>   6.9000000e+00   3.2000000e+00   5.7000000e+00   2.3000000e+00   2.0000000e+00</td></tr><tr><td>   5.6000000e+00   2.8000000e+00   4.9000000e+00   2.0000000e+00   2.0000000e+00</td></tr><tr><td>   7.7000000e+00   2.8000000e+00   6.7000000e+00   2.0000000e+00   2.0000000e+00</td></tr><tr><td>   6.3000000e+00   2.7000000e+00   4.9000000e+00   1.8000000e+00   2.0000000e+00</td></tr><tr><td>   6.7000000e+00   3.3000000e+00   5.7000000e+00   2.1000000e+00   2.0000000e+00</td></tr><tr><td>   7.2000000e+00   3.2000000e+00   6.0000000e+00   1.8000000e+00   2.0000000e+00</td></tr><tr><td>   6.2000000e+00   2.8000000e+00   4.8000000e+00   1.8000000e+00   2.0000000e+00</td></tr><tr><td>   6.1000000e+00   3.0000000e+00   4.9000000e+00   1.8000000e+00   2.0000000e+00</td></tr><tr><td>   6.4000000e+00   2.8000000e+00   5.6000000e+00   2.1000000e+00   2.0000000e+00</td></tr><tr><td>   7.2000000e+00   3.0000000e+00   5.8000000e+00   1.6000000e+00   2.0000000e+00</td></tr><tr><td>   7.4000000e+00   2.8000000e+00   6.1000000e+00   1.9000000e+00   2.0000000e+00</td></tr><tr><td>   7.9000000e+00   3.8000000e+00   6.4000000e+00   2.0000000e+00   2.0000000e+00</td></tr><tr><td>   6.4000000e+00   2.8000000e+00   5.6000000e+00   2.2000000e+00   2.0000000e+00</td></tr><tr><td>   6.3000000e+00   2.8000000e+00   5.1000000e+00   1.5000000e+00   2.0000000e+00</td></tr><tr><td>   6.1000000e+00   2.6000000e+00   5.6000000e+00   1.4000000e+00   2.0000000e+00</td></tr><tr><td>   7.7000000e+00   3.0000000e+00   6.1000000e+00   2.3000000e+00   2.0000000e+00</td></tr><tr><td>   6.3000000e+00   3.4000000e+00   5.6000000e+00   2.4000000e+00   2.0000000e+00</td></tr><tr><td>   6.4000000e+00   3.1000000e+00   5.5000000e+00   1.8000000e+00   2.0000000e+00</td></tr><tr><td>   6.0000000e+00   3.0000000e+00   4.8000000e+00   1.8000000e+00   2.0000000e+00</td></tr><tr><td>   6.9000000e+00   3.1000000e+00   5.4000000e+00   2.1000000e+00   2.0000000e+00</td></tr><tr><td>   6.7000000e+00   3.1000000e+00   5.6000000e+00   2.4000000e+00   2.0000000e+00</td></tr><tr><td>   6.9000000e+00   3.1000000e+00   5.1000000e+00   2.3000000e+00   2.0000000e+00</td></tr><tr><td>   5.8000000e+00   2.7000000e+00   5.1000000e+00   1.9000000e+00   2.0000000e+00</td></tr><tr><td>   6.8000000e+00   3.2000000e+00   5.9000000e+00   2.3000000e+00   2.0000000e+00</td></tr><tr><td>   6.7000000e+00   3.3000000e+00   5.7000000e+00   2.5000000e+00   2.0000000e+00</td></tr><tr><td>   6.7000000e+00   3.0000000e+00   5.2000000e+00   2.3000000e+00   2.0000000e+00</td></tr><tr><td>   6.3000000e+00   2.5000000e+00   5.0000000e+00   1.9000000e+00   2.0000000e+00</td></tr><tr><td>   6.5000000e+00   3.0000000e+00   5.2000000e+00   2.0000000e+00   2.0000000e+00</td></tr><tr><td>   6.2000000e+00   3.4000000e+00   5.4000000e+00   2.3000000e+00   2.0000000e+00</td></tr><tr><td>   5.9000000e+00   3.0000000e+00   5.1000000e+00   1.8000000e+00   2.0000000e+00</td></tr></tbody></table></div>"
      ]
     },
     "metadata": {
      "application/vnd.databricks.v1+output": {
       "addedWidgets": {},
       "aggData": [],
       "aggError": "",
       "aggOverflow": false,
       "aggSchema": [],
       "aggSeriesLimitReached": false,
       "aggType": "",
       "arguments": {},
       "columnCustomDisplayInfos": {},
       "data": [
        [
         "   4.9000000e+00   3.0000000e+00   1.4000000e+00   2.0000000e-01   0.0000000e+00"
        ],
        [
         "   4.7000000e+00   3.2000000e+00   1.3000000e+00   2.0000000e-01   0.0000000e+00"
        ],
        [
         "   4.6000000e+00   3.1000000e+00   1.5000000e+00   2.0000000e-01   0.0000000e+00"
        ],
        [
         "   5.0000000e+00   3.6000000e+00   1.4000000e+00   2.0000000e-01   0.0000000e+00"
        ],
        [
         "   5.4000000e+00   3.9000000e+00   1.7000000e+00   4.0000000e-01   0.0000000e+00"
        ],
        [
         "   4.6000000e+00   3.4000000e+00   1.4000000e+00   3.0000000e-01   0.0000000e+00"
        ],
        [
         "   5.0000000e+00   3.4000000e+00   1.5000000e+00   2.0000000e-01   0.0000000e+00"
        ],
        [
         "   4.4000000e+00   2.9000000e+00   1.4000000e+00   2.0000000e-01   0.0000000e+00"
        ],
        [
         "   4.9000000e+00   3.1000000e+00   1.5000000e+00   1.0000000e-01   0.0000000e+00"
        ],
        [
         "   5.4000000e+00   3.7000000e+00   1.5000000e+00   2.0000000e-01   0.0000000e+00"
        ],
        [
         "   4.8000000e+00   3.4000000e+00   1.6000000e+00   2.0000000e-01   0.0000000e+00"
        ],
        [
         "   4.8000000e+00   3.0000000e+00   1.4000000e+00   1.0000000e-01   0.0000000e+00"
        ],
        [
         "   4.3000000e+00   3.0000000e+00   1.1000000e+00   1.0000000e-01   0.0000000e+00"
        ],
        [
         "   5.8000000e+00   4.0000000e+00   1.2000000e+00   2.0000000e-01   0.0000000e+00"
        ],
        [
         "   5.7000000e+00   4.4000000e+00   1.5000000e+00   4.0000000e-01   0.0000000e+00"
        ],
        [
         "   5.4000000e+00   3.9000000e+00   1.3000000e+00   4.0000000e-01   0.0000000e+00"
        ],
        [
         "   5.1000000e+00   3.5000000e+00   1.4000000e+00   3.0000000e-01   0.0000000e+00"
        ],
        [
         "   5.7000000e+00   3.8000000e+00   1.7000000e+00   3.0000000e-01   0.0000000e+00"
        ],
        [
         "   5.1000000e+00   3.8000000e+00   1.5000000e+00   3.0000000e-01   0.0000000e+00"
        ],
        [
         "   5.4000000e+00   3.4000000e+00   1.7000000e+00   2.0000000e-01   0.0000000e+00"
        ],
        [
         "   5.1000000e+00   3.7000000e+00   1.5000000e+00   4.0000000e-01   0.0000000e+00"
        ],
        [
         "   4.6000000e+00   3.6000000e+00   1.0000000e+00   2.0000000e-01   0.0000000e+00"
        ],
        [
         "   5.1000000e+00   3.3000000e+00   1.7000000e+00   5.0000000e-01   0.0000000e+00"
        ],
        [
         "   4.8000000e+00   3.4000000e+00   1.9000000e+00   2.0000000e-01   0.0000000e+00"
        ],
        [
         "   5.0000000e+00   3.0000000e+00   1.6000000e+00   2.0000000e-01   0.0000000e+00"
        ],
        [
         "   5.0000000e+00   3.4000000e+00   1.6000000e+00   4.0000000e-01   0.0000000e+00"
        ],
        [
         "   5.2000000e+00   3.5000000e+00   1.5000000e+00   2.0000000e-01   0.0000000e+00"
        ],
        [
         "   5.2000000e+00   3.4000000e+00   1.4000000e+00   2.0000000e-01   0.0000000e+00"
        ],
        [
         "   4.7000000e+00   3.2000000e+00   1.6000000e+00   2.0000000e-01   0.0000000e+00"
        ],
        [
         "   4.8000000e+00   3.1000000e+00   1.6000000e+00   2.0000000e-01   0.0000000e+00"
        ],
        [
         "   5.4000000e+00   3.4000000e+00   1.5000000e+00   4.0000000e-01   0.0000000e+00"
        ],
        [
         "   5.2000000e+00   4.1000000e+00   1.5000000e+00   1.0000000e-01   0.0000000e+00"
        ],
        [
         "   5.5000000e+00   4.2000000e+00   1.4000000e+00   2.0000000e-01   0.0000000e+00"
        ],
        [
         "   4.9000000e+00   3.1000000e+00   1.5000000e+00   1.0000000e-01   0.0000000e+00"
        ],
        [
         "   5.0000000e+00   3.2000000e+00   1.2000000e+00   2.0000000e-01   0.0000000e+00"
        ],
        [
         "   5.5000000e+00   3.5000000e+00   1.3000000e+00   2.0000000e-01   0.0000000e+00"
        ],
        [
         "   4.9000000e+00   3.1000000e+00   1.5000000e+00   1.0000000e-01   0.0000000e+00"
        ],
        [
         "   4.4000000e+00   3.0000000e+00   1.3000000e+00   2.0000000e-01   0.0000000e+00"
        ],
        [
         "   5.1000000e+00   3.4000000e+00   1.5000000e+00   2.0000000e-01   0.0000000e+00"
        ],
        [
         "   5.0000000e+00   3.5000000e+00   1.3000000e+00   3.0000000e-01   0.0000000e+00"
        ],
        [
         "   4.5000000e+00   2.3000000e+00   1.3000000e+00   3.0000000e-01   0.0000000e+00"
        ],
        [
         "   4.4000000e+00   3.2000000e+00   1.3000000e+00   2.0000000e-01   0.0000000e+00"
        ],
        [
         "   5.0000000e+00   3.5000000e+00   1.6000000e+00   6.0000000e-01   0.0000000e+00"
        ],
        [
         "   5.1000000e+00   3.8000000e+00   1.9000000e+00   4.0000000e-01   0.0000000e+00"
        ],
        [
         "   4.8000000e+00   3.0000000e+00   1.4000000e+00   3.0000000e-01   0.0000000e+00"
        ],
        [
         "   5.1000000e+00   3.8000000e+00   1.6000000e+00   2.0000000e-01   0.0000000e+00"
        ],
        [
         "   4.6000000e+00   3.2000000e+00   1.4000000e+00   2.0000000e-01   0.0000000e+00"
        ],
        [
         "   5.3000000e+00   3.7000000e+00   1.5000000e+00   2.0000000e-01   0.0000000e+00"
        ],
        [
         "   5.0000000e+00   3.3000000e+00   1.4000000e+00   2.0000000e-01   0.0000000e+00"
        ],
        [
         "   7.0000000e+00   3.2000000e+00   4.7000000e+00   1.4000000e+00   1.0000000e+00"
        ],
        [
         "   6.4000000e+00   3.2000000e+00   4.5000000e+00   1.5000000e+00   1.0000000e+00"
        ],
        [
         "   6.9000000e+00   3.1000000e+00   4.9000000e+00   1.5000000e+00   1.0000000e+00"
        ],
        [
         "   5.5000000e+00   2.3000000e+00   4.0000000e+00   1.3000000e+00   1.0000000e+00"
        ],
        [
         "   6.5000000e+00   2.8000000e+00   4.6000000e+00   1.5000000e+00   1.0000000e+00"
        ],
        [
         "   5.7000000e+00   2.8000000e+00   4.5000000e+00   1.3000000e+00   1.0000000e+00"
        ],
        [
         "   6.3000000e+00   3.3000000e+00   4.7000000e+00   1.6000000e+00   1.0000000e+00"
        ],
        [
         "   4.9000000e+00   2.4000000e+00   3.3000000e+00   1.0000000e+00   1.0000000e+00"
        ],
        [
         "   6.6000000e+00   2.9000000e+00   4.6000000e+00   1.3000000e+00   1.0000000e+00"
        ],
        [
         "   5.2000000e+00   2.7000000e+00   3.9000000e+00   1.4000000e+00   1.0000000e+00"
        ],
        [
         "   5.0000000e+00   2.0000000e+00   3.5000000e+00   1.0000000e+00   1.0000000e+00"
        ],
        [
         "   5.9000000e+00   3.0000000e+00   4.2000000e+00   1.5000000e+00   1.0000000e+00"
        ],
        [
         "   6.0000000e+00   2.2000000e+00   4.0000000e+00   1.0000000e+00   1.0000000e+00"
        ],
        [
         "   6.1000000e+00   2.9000000e+00   4.7000000e+00   1.4000000e+00   1.0000000e+00"
        ],
        [
         "   5.6000000e+00   2.9000000e+00   3.6000000e+00   1.3000000e+00   1.0000000e+00"
        ],
        [
         "   6.7000000e+00   3.1000000e+00   4.4000000e+00   1.4000000e+00   1.0000000e+00"
        ],
        [
         "   5.6000000e+00   3.0000000e+00   4.5000000e+00   1.5000000e+00   1.0000000e+00"
        ],
        [
         "   5.8000000e+00   2.7000000e+00   4.1000000e+00   1.0000000e+00   1.0000000e+00"
        ],
        [
         "   6.2000000e+00   2.2000000e+00   4.5000000e+00   1.5000000e+00   1.0000000e+00"
        ],
        [
         "   5.6000000e+00   2.5000000e+00   3.9000000e+00   1.1000000e+00   1.0000000e+00"
        ],
        [
         "   5.9000000e+00   3.2000000e+00   4.8000000e+00   1.8000000e+00   1.0000000e+00"
        ],
        [
         "   6.1000000e+00   2.8000000e+00   4.0000000e+00   1.3000000e+00   1.0000000e+00"
        ],
        [
         "   6.3000000e+00   2.5000000e+00   4.9000000e+00   1.5000000e+00   1.0000000e+00"
        ],
        [
         "   6.1000000e+00   2.8000000e+00   4.7000000e+00   1.2000000e+00   1.0000000e+00"
        ],
        [
         "   6.4000000e+00   2.9000000e+00   4.3000000e+00   1.3000000e+00   1.0000000e+00"
        ],
        [
         "   6.6000000e+00   3.0000000e+00   4.4000000e+00   1.4000000e+00   1.0000000e+00"
        ],
        [
         "   6.8000000e+00   2.8000000e+00   4.8000000e+00   1.4000000e+00   1.0000000e+00"
        ],
        [
         "   6.7000000e+00   3.0000000e+00   5.0000000e+00   1.7000000e+00   1.0000000e+00"
        ],
        [
         "   6.0000000e+00   2.9000000e+00   4.5000000e+00   1.5000000e+00   1.0000000e+00"
        ],
        [
         "   5.7000000e+00   2.6000000e+00   3.5000000e+00   1.0000000e+00   1.0000000e+00"
        ],
        [
         "   5.5000000e+00   2.4000000e+00   3.8000000e+00   1.1000000e+00   1.0000000e+00"
        ],
        [
         "   5.5000000e+00   2.4000000e+00   3.7000000e+00   1.0000000e+00   1.0000000e+00"
        ],
        [
         "   5.8000000e+00   2.7000000e+00   3.9000000e+00   1.2000000e+00   1.0000000e+00"
        ],
        [
         "   6.0000000e+00   2.7000000e+00   5.1000000e+00   1.6000000e+00   1.0000000e+00"
        ],
        [
         "   5.4000000e+00   3.0000000e+00   4.5000000e+00   1.5000000e+00   1.0000000e+00"
        ],
        [
         "   6.0000000e+00   3.4000000e+00   4.5000000e+00   1.6000000e+00   1.0000000e+00"
        ],
        [
         "   6.7000000e+00   3.1000000e+00   4.7000000e+00   1.5000000e+00   1.0000000e+00"
        ],
        [
         "   6.3000000e+00   2.3000000e+00   4.4000000e+00   1.3000000e+00   1.0000000e+00"
        ],
        [
         "   5.6000000e+00   3.0000000e+00   4.1000000e+00   1.3000000e+00   1.0000000e+00"
        ],
        [
         "   5.5000000e+00   2.5000000e+00   4.0000000e+00   1.3000000e+00   1.0000000e+00"
        ],
        [
         "   5.5000000e+00   2.6000000e+00   4.4000000e+00   1.2000000e+00   1.0000000e+00"
        ],
        [
         "   6.1000000e+00   3.0000000e+00   4.6000000e+00   1.4000000e+00   1.0000000e+00"
        ],
        [
         "   5.8000000e+00   2.6000000e+00   4.0000000e+00   1.2000000e+00   1.0000000e+00"
        ],
        [
         "   5.0000000e+00   2.3000000e+00   3.3000000e+00   1.0000000e+00   1.0000000e+00"
        ],
        [
         "   5.6000000e+00   2.7000000e+00   4.2000000e+00   1.3000000e+00   1.0000000e+00"
        ],
        [
         "   5.7000000e+00   3.0000000e+00   4.2000000e+00   1.2000000e+00   1.0000000e+00"
        ],
        [
         "   5.7000000e+00   2.9000000e+00   4.2000000e+00   1.3000000e+00   1.0000000e+00"
        ],
        [
         "   6.2000000e+00   2.9000000e+00   4.3000000e+00   1.3000000e+00   1.0000000e+00"
        ],
        [
         "   5.1000000e+00   2.5000000e+00   3.0000000e+00   1.1000000e+00   1.0000000e+00"
        ],
        [
         "   5.7000000e+00   2.8000000e+00   4.1000000e+00   1.3000000e+00   1.0000000e+00"
        ],
        [
         "   6.3000000e+00   3.3000000e+00   6.0000000e+00   2.5000000e+00   2.0000000e+00"
        ],
        [
         "   5.8000000e+00   2.7000000e+00   5.1000000e+00   1.9000000e+00   2.0000000e+00"
        ],
        [
         "   7.1000000e+00   3.0000000e+00   5.9000000e+00   2.1000000e+00   2.0000000e+00"
        ],
        [
         "   6.3000000e+00   2.9000000e+00   5.6000000e+00   1.8000000e+00   2.0000000e+00"
        ],
        [
         "   6.5000000e+00   3.0000000e+00   5.8000000e+00   2.2000000e+00   2.0000000e+00"
        ],
        [
         "   7.6000000e+00   3.0000000e+00   6.6000000e+00   2.1000000e+00   2.0000000e+00"
        ],
        [
         "   4.9000000e+00   2.5000000e+00   4.5000000e+00   1.7000000e+00   2.0000000e+00"
        ],
        [
         "   7.3000000e+00   2.9000000e+00   6.3000000e+00   1.8000000e+00   2.0000000e+00"
        ],
        [
         "   6.7000000e+00   2.5000000e+00   5.8000000e+00   1.8000000e+00   2.0000000e+00"
        ],
        [
         "   7.2000000e+00   3.6000000e+00   6.1000000e+00   2.5000000e+00   2.0000000e+00"
        ],
        [
         "   6.5000000e+00   3.2000000e+00   5.1000000e+00   2.0000000e+00   2.0000000e+00"
        ],
        [
         "   6.4000000e+00   2.7000000e+00   5.3000000e+00   1.9000000e+00   2.0000000e+00"
        ],
        [
         "   6.8000000e+00   3.0000000e+00   5.5000000e+00   2.1000000e+00   2.0000000e+00"
        ],
        [
         "   5.7000000e+00   2.5000000e+00   5.0000000e+00   2.0000000e+00   2.0000000e+00"
        ],
        [
         "   5.8000000e+00   2.8000000e+00   5.1000000e+00   2.4000000e+00   2.0000000e+00"
        ],
        [
         "   6.4000000e+00   3.2000000e+00   5.3000000e+00   2.3000000e+00   2.0000000e+00"
        ],
        [
         "   6.5000000e+00   3.0000000e+00   5.5000000e+00   1.8000000e+00   2.0000000e+00"
        ],
        [
         "   7.7000000e+00   3.8000000e+00   6.7000000e+00   2.2000000e+00   2.0000000e+00"
        ],
        [
         "   7.7000000e+00   2.6000000e+00   6.9000000e+00   2.3000000e+00   2.0000000e+00"
        ],
        [
         "   6.0000000e+00   2.2000000e+00   5.0000000e+00   1.5000000e+00   2.0000000e+00"
        ],
        [
         "   6.9000000e+00   3.2000000e+00   5.7000000e+00   2.3000000e+00   2.0000000e+00"
        ],
        [
         "   5.6000000e+00   2.8000000e+00   4.9000000e+00   2.0000000e+00   2.0000000e+00"
        ],
        [
         "   7.7000000e+00   2.8000000e+00   6.7000000e+00   2.0000000e+00   2.0000000e+00"
        ],
        [
         "   6.3000000e+00   2.7000000e+00   4.9000000e+00   1.8000000e+00   2.0000000e+00"
        ],
        [
         "   6.7000000e+00   3.3000000e+00   5.7000000e+00   2.1000000e+00   2.0000000e+00"
        ],
        [
         "   7.2000000e+00   3.2000000e+00   6.0000000e+00   1.8000000e+00   2.0000000e+00"
        ],
        [
         "   6.2000000e+00   2.8000000e+00   4.8000000e+00   1.8000000e+00   2.0000000e+00"
        ],
        [
         "   6.1000000e+00   3.0000000e+00   4.9000000e+00   1.8000000e+00   2.0000000e+00"
        ],
        [
         "   6.4000000e+00   2.8000000e+00   5.6000000e+00   2.1000000e+00   2.0000000e+00"
        ],
        [
         "   7.2000000e+00   3.0000000e+00   5.8000000e+00   1.6000000e+00   2.0000000e+00"
        ],
        [
         "   7.4000000e+00   2.8000000e+00   6.1000000e+00   1.9000000e+00   2.0000000e+00"
        ],
        [
         "   7.9000000e+00   3.8000000e+00   6.4000000e+00   2.0000000e+00   2.0000000e+00"
        ],
        [
         "   6.4000000e+00   2.8000000e+00   5.6000000e+00   2.2000000e+00   2.0000000e+00"
        ],
        [
         "   6.3000000e+00   2.8000000e+00   5.1000000e+00   1.5000000e+00   2.0000000e+00"
        ],
        [
         "   6.1000000e+00   2.6000000e+00   5.6000000e+00   1.4000000e+00   2.0000000e+00"
        ],
        [
         "   7.7000000e+00   3.0000000e+00   6.1000000e+00   2.3000000e+00   2.0000000e+00"
        ],
        [
         "   6.3000000e+00   3.4000000e+00   5.6000000e+00   2.4000000e+00   2.0000000e+00"
        ],
        [
         "   6.4000000e+00   3.1000000e+00   5.5000000e+00   1.8000000e+00   2.0000000e+00"
        ],
        [
         "   6.0000000e+00   3.0000000e+00   4.8000000e+00   1.8000000e+00   2.0000000e+00"
        ],
        [
         "   6.9000000e+00   3.1000000e+00   5.4000000e+00   2.1000000e+00   2.0000000e+00"
        ],
        [
         "   6.7000000e+00   3.1000000e+00   5.6000000e+00   2.4000000e+00   2.0000000e+00"
        ],
        [
         "   6.9000000e+00   3.1000000e+00   5.1000000e+00   2.3000000e+00   2.0000000e+00"
        ],
        [
         "   5.8000000e+00   2.7000000e+00   5.1000000e+00   1.9000000e+00   2.0000000e+00"
        ],
        [
         "   6.8000000e+00   3.2000000e+00   5.9000000e+00   2.3000000e+00   2.0000000e+00"
        ],
        [
         "   6.7000000e+00   3.3000000e+00   5.7000000e+00   2.5000000e+00   2.0000000e+00"
        ],
        [
         "   6.7000000e+00   3.0000000e+00   5.2000000e+00   2.3000000e+00   2.0000000e+00"
        ],
        [
         "   6.3000000e+00   2.5000000e+00   5.0000000e+00   1.9000000e+00   2.0000000e+00"
        ],
        [
         "   6.5000000e+00   3.0000000e+00   5.2000000e+00   2.0000000e+00   2.0000000e+00"
        ],
        [
         "   6.2000000e+00   3.4000000e+00   5.4000000e+00   2.3000000e+00   2.0000000e+00"
        ],
        [
         "   5.9000000e+00   3.0000000e+00   5.1000000e+00   1.8000000e+00   2.0000000e+00"
        ]
       ],
       "datasetInfos": [],
       "dbfsResultPath": null,
       "isJsonSchema": true,
       "metadata": {},
       "overflow": false,
       "plotOptions": {
        "customPlotOptions": {},
        "displayType": "table",
        "pivotAggregation": null,
        "pivotColumns": null,
        "xColumns": null,
        "yColumns": null
       },
       "removedWidgets": [],
       "schema": [
        {
         "metadata": "{}",
         "name": "   5.1000000e+00   3.5000000e+00   1.4000000e+00   2.0000000e-01   0.0000000e+00",
         "type": "\"string\""
        }
       ],
       "type": "table"
      }
     },
     "output_type": "display_data"
    }
   ],
   "source": [
    "file_path = '/Volumes/workspace/mclass/batch/iris.txt'\n",
    "df = spark.read.format('csv').option('header', True).option('sep', '|').load(file_path)\n",
    "display(df)"
   ]
  },
  {
   "cell_type": "markdown",
   "metadata": {
    "application/vnd.databricks.v1+cell": {
     "cellMetadata": {},
     "inputWidgets": {},
     "nuid": "0c2971bd-8c1f-4452-8df6-3ca7aca94eb6",
     "showTitle": false,
     "tableResultSettingsMap": {},
     "title": ""
    }
   },
   "source": [
    "**Transformation**\n",
    "\n",
    "* select rewuired columns\n",
    "* Changig the data type\n",
    "* Adding calculated columns\n",
    "* Renaming columns\n",
    "* Filtering\n",
    "* String and Data Formattings\n",
    "* Aggregations\n",
    "* Remove null and duplicates\n",
    "* Joins\n",
    "* Unions\n",
    "* Rank, dense rank, getting last row and next row values"
   ]
  },
  {
   "cell_type": "code",
   "execution_count": 0,
   "metadata": {
    "application/vnd.databricks.v1+cell": {
     "cellMetadata": {
      "byteLimit": 2048000,
      "rowLimit": 10000
     },
     "inputWidgets": {},
     "nuid": "035e1bbe-57f9-4c51-8278-d87029826a98",
     "showTitle": false,
     "tableResultSettingsMap": {},
     "title": ""
    }
   },
   "outputs": [
    {
     "output_type": "stream",
     "name": "stdout",
     "output_type": "stream",
     "text": [
      "+--------------+--------------+-------+-----+------+\n|     firstname|      lastname|country|state|salary|\n+--------------+--------------+-------+-----+------+\n|         James|         Smith|    USA|   CA|  3000|\n|       Michael|          Rose|    USA|   NY|  2500|\n|        Robert|      Williams|    USA|   CA|  6000|\n|         Maria|  Jones       |    USA|   FL|  4000|\n|         james|jones         |     UK|  LND|  8000|\n|          john|           doe|     UK|  LND|  4000|\n|        Michel|         bevon|     UK|  LND|  5000|\n|         james|         jones|     UK|  LND|  8000|\n|          john|           doe|     UK|  MCR|  4000|\n|        Michel|         bevon|     UK|  MCR|  5000|\n+--------------+--------------+-------+-----+------+\n\n"
     ]
    }
   ],
   "source": [
    "# Create a dataframe from a static list \n",
    "# syntax: spark.ceateDataFrame(data = <list> ,schema=<schemalist>)\n",
    "staticlist =[(\"     James\",\"Smith\",\"USA\",\"CA\",3000),\n",
    "    (\"Michael\",\"Rose\",\"USA\",\"NY\",2500),\n",
    "    (\"Robert\",\"Williams\",\"USA\",\"CA\",6000),\n",
    "    (\"Maria\",\"Jones       \",\"USA\",\"FL\",4000),\n",
    "    (\"james\",\"jones         \",\"UK\",\"LND\",8000),\n",
    "    (\"john\",\"doe\",\"UK\",\"LND\",4000),\n",
    "    (\"        Michel\",\"bevon\",\"UK\",\"LND\",5000),\n",
    "    (\"james\",\"jones\",\"UK\",\"LND\",8000),\n",
    "    (\"john\",\"doe\",\"UK\",\"MCR\",4000),\n",
    "    (\"Michel\",\"bevon\",\"UK\",\"MCR\",5000),\n",
    " ]\n",
    "columns = [\"firstname\",\"lastname\",\"country\",\"state\",\"salary\"]\n",
    "df = spark.createDataFrame(data = staticlist,schema = columns)\n",
    "df.show()\n"
   ]
  },
  {
   "cell_type": "code",
   "execution_count": 0,
   "metadata": {
    "application/vnd.databricks.v1+cell": {
     "cellMetadata": {
      "byteLimit": 2048000,
      "rowLimit": 10000
     },
     "inputWidgets": {},
     "nuid": "d4c84a46-5abe-439e-91b0-cb3f74b85cff",
     "showTitle": false,
     "tableResultSettingsMap": {},
     "title": ""
    }
   },
   "outputs": [
    {
     "output_type": "execute_result",
     "data": {
      "text/plain": [
       "pyspark.sql.connect.dataframe.DataFrame"
      ]
     },
     "execution_count": 6,
     "metadata": {},
     "output_type": "execute_result"
    }
   ],
   "source": [
    "#check the datatype of any variable\n",
    "type(df)"
   ]
  },
  {
   "cell_type": "code",
   "execution_count": 0,
   "metadata": {
    "application/vnd.databricks.v1+cell": {
     "cellMetadata": {
      "byteLimit": 2048000,
      "rowLimit": 10000
     },
     "inputWidgets": {},
     "nuid": "b1e62e61-9b3b-46ed-826e-9ed5dc4f5e36",
     "showTitle": false,
     "tableResultSettingsMap": {},
     "title": ""
    }
   },
   "outputs": [
    {
     "output_type": "stream",
     "name": "stdout",
     "output_type": "stream",
     "text": [
      "root\n |-- firstname: string (nullable = true)\n |-- lastname: string (nullable = true)\n |-- country: string (nullable = true)\n |-- state: string (nullable = true)\n |-- salary: long (nullable = true)\n\n"
     ]
    },
    {
     "output_type": "execute_result",
     "data": {
      "text/plain": [
       "10"
      ]
     },
     "execution_count": 7,
     "metadata": {},
     "output_type": "execute_result"
    }
   ],
   "source": [
    "#check the schema of the dataframe\n",
    "df.printSchema()\n",
    "#check the number of rows in the dataframe\n",
    "df.count()"
   ]
  },
  {
   "cell_type": "code",
   "execution_count": 0,
   "metadata": {
    "application/vnd.databricks.v1+cell": {
     "cellMetadata": {
      "byteLimit": 2048000,
      "rowLimit": 10000
     },
     "inputWidgets": {},
     "nuid": "9c12ff7e-6eb0-41f3-a450-3b2eb389b25a",
     "showTitle": false,
     "tableResultSettingsMap": {},
     "title": ""
    }
   },
   "outputs": [],
   "source": [
    "#create a new schema for a dataframe usig the StructType and StructField\n",
    "# https://spark.apache.org/docs/latest/api/python/reference/pyspark.sql/data_types.html\n",
    "\n",
    "from pyspark.sql.types import *\n",
    "Structschema = StructType([ \\\n",
    "    StructField(\"firstname\",StringType(),False), \\\n",
    "    StructField(\"lastname\",StringType(),True), \\\n",
    "    StructField(\"country\",StringType(),False), \\\n",
    "    StructField(\"state\",StringType(),False), \\\n",
    "    StructField(\"salary\",StringType(),False)\n",
    "  ])"
   ]
  },
  {
   "cell_type": "code",
   "execution_count": 0,
   "metadata": {
    "application/vnd.databricks.v1+cell": {
     "cellMetadata": {
      "byteLimit": 2048000,
      "rowLimit": 10000
     },
     "inputWidgets": {},
     "nuid": "d7d297d6-8701-4f1e-8590-84528e1be5ce",
     "showTitle": false,
     "tableResultSettingsMap": {},
     "title": ""
    }
   },
   "outputs": [
    {
     "output_type": "stream",
     "name": "stdout",
     "output_type": "stream",
     "text": [
      "+--------------+--------------+-------+-----+------+\n|     firstname|      lastname|country|state|salary|\n+--------------+--------------+-------+-----+------+\n|         James|         Smith|    USA|   CA|  3000|\n|       Michael|          Rose|    USA|   NY|  2500|\n|        Robert|      Williams|    USA|   CA|  6000|\n|         Maria|  Jones       |    USA|   FL|  4000|\n|         james|jones         |     UK|  LND|  8000|\n|          john|           doe|     UK|  LND|  4000|\n|        Michel|         bevon|     UK|  LND|  5000|\n|         james|         jones|     UK|  LND|  8000|\n|          john|           doe|     UK|  MCR|  4000|\n|        Michel|         bevon|     UK|  MCR|  5000|\n+--------------+--------------+-------+-----+------+\n\nroot\n |-- firstname: string (nullable = false)\n |-- lastname: string (nullable = true)\n |-- country: string (nullable = false)\n |-- state: string (nullable = false)\n |-- salary: string (nullable = false)\n\n"
     ]
    }
   ],
   "source": [
    "#create a dataframe using the new struct schema\n",
    "df = spark.createDataFrame(data = staticlist,schema = Structschema)\n",
    "df.show()\n",
    "df.printSchema()"
   ]
  },
  {
   "cell_type": "code",
   "execution_count": 0,
   "metadata": {
    "application/vnd.databricks.v1+cell": {
     "cellMetadata": {
      "byteLimit": 2048000,
      "rowLimit": 10000
     },
     "inputWidgets": {},
     "nuid": "163e0db4-e420-4b80-b8d9-5fd350bc1227",
     "showTitle": false,
     "tableResultSettingsMap": {},
     "title": ""
    }
   },
   "outputs": [],
   "source": [
    "#most used pyspark libraries\n",
    "from pyspark.sql.functions import *\n",
    "from pyspark.sql.types import *\n",
    "from pyspark.sql.window import *\n",
    "from delta.tables import *"
   ]
  },
  {
   "cell_type": "code",
   "execution_count": 0,
   "metadata": {
    "application/vnd.databricks.v1+cell": {
     "cellMetadata": {
      "byteLimit": 2048000,
      "rowLimit": 10000
     },
     "inputWidgets": {},
     "nuid": "3e24ea79-a224-494b-ba97-9b8023b3199f",
     "showTitle": false,
     "tableResultSettingsMap": {},
     "title": ""
    }
   },
   "outputs": [
    {
     "output_type": "stream",
     "name": "stdout",
     "output_type": "stream",
     "text": [
      "+--------------+--------------+\n|     firstname|      lastname|\n+--------------+--------------+\n|         James|         Smith|\n|       Michael|          Rose|\n|        Robert|      Williams|\n|         Maria|  Jones       |\n|         james|jones         |\n|          john|           doe|\n|        Michel|         bevon|\n|         james|         jones|\n|          john|           doe|\n|        Michel|         bevon|\n+--------------+--------------+\n\n"
     ]
    }
   ],
   "source": [
    "# select specific columns from a dataframe using the \"column name\" Selection\n",
    "# Using name in invered columns is not casr sensitive\n",
    "df1 = df.select('firstname','lastname')\n",
    "df1.show()"
   ]
  },
  {
   "cell_type": "code",
   "execution_count": 0,
   "metadata": {
    "application/vnd.databricks.v1+cell": {
     "cellMetadata": {
      "byteLimit": 2048000,
      "rowLimit": 10000
     },
     "inputWidgets": {},
     "nuid": "cac8060a-ddf1-4865-a1a4-0948ef8e29aa",
     "showTitle": false,
     "tableResultSettingsMap": {},
     "title": ""
    }
   },
   "outputs": [
    {
     "output_type": "stream",
     "name": "stdout",
     "output_type": "stream",
     "text": [
      "+--------------+--------------+\n|     firstname|      lastname|\n+--------------+--------------+\n|         James|         Smith|\n|       Michael|          Rose|\n|        Robert|      Williams|\n|         Maria|  Jones       |\n|         james|jones         |\n|          john|           doe|\n|        Michel|         bevon|\n|         james|         jones|\n|          john|           doe|\n|        Michel|         bevon|\n+--------------+--------------+\n\n+--------------+--------------+-------+-----+------+\n|     firstname|      lastname|country|state|salary|\n+--------------+--------------+-------+-----+------+\n|         James|         Smith|    USA|   CA|  3000|\n|       Michael|          Rose|    USA|   NY|  2500|\n|        Robert|      Williams|    USA|   CA|  6000|\n|         Maria|  Jones       |    USA|   FL|  4000|\n|         james|jones         |     UK|  LND|  8000|\n|          john|           doe|     UK|  LND|  4000|\n|        Michel|         bevon|     UK|  LND|  5000|\n|         james|         jones|     UK|  LND|  8000|\n|          john|           doe|     UK|  MCR|  4000|\n|        Michel|         bevon|     UK|  MCR|  5000|\n+--------------+--------------+-------+-----+------+\n\n"
     ]
    }
   ],
   "source": [
    "df1.show()\n",
    "df.show()"
   ]
  },
  {
   "cell_type": "code",
   "execution_count": 0,
   "metadata": {
    "application/vnd.databricks.v1+cell": {
     "cellMetadata": {
      "byteLimit": 2048000,
      "rowLimit": 10000
     },
     "inputWidgets": {},
     "nuid": "45cc8c97-a43d-45df-951c-354fbd9c83b2",
     "showTitle": false,
     "tableResultSettingsMap": {},
     "title": ""
    }
   },
   "outputs": [
    {
     "output_type": "stream",
     "name": "stdout",
     "output_type": "stream",
     "text": [
      "+--------------+--------------+\n|     firstname|      lastname|\n+--------------+--------------+\n|         James|         Smith|\n|       Michael|          Rose|\n|        Robert|      Williams|\n|         Maria|  Jones       |\n|         james|jones         |\n|          john|           doe|\n|        Michel|         bevon|\n|         james|         jones|\n|          john|           doe|\n|        Michel|         bevon|\n+--------------+--------------+\n\n+--------------+--------------+\n|     FIRSTNAME|      lastname|\n+--------------+--------------+\n|         James|         Smith|\n|       Michael|          Rose|\n|        Robert|      Williams|\n|         Maria|  Jones       |\n|         james|jones         |\n|          john|           doe|\n|        Michel|         bevon|\n|         james|         jones|\n|          john|           doe|\n|        Michel|         bevon|\n+--------------+--------------+\n\n"
     ]
    }
   ],
   "source": [
    "# option2 using the dataframe method\n",
    "# using this method the column names should be case sensitive\n",
    "df1 = df.select(df.firstname,df.lastname)\n",
    "df1.show()\n",
    "\n",
    "# option3 using the dataframe method\n",
    "# this method the column names are not a case sensitive\n",
    "df2 = df.select(df[\"FIRSTNAME\"],df[\"lastname\"])\n",
    "df2.show()"
   ]
  },
  {
   "cell_type": "code",
   "execution_count": 0,
   "metadata": {
    "application/vnd.databricks.v1+cell": {
     "cellMetadata": {
      "byteLimit": 2048000,
      "rowLimit": 10000
     },
     "inputWidgets": {},
     "nuid": "37c28dbb-b34c-4591-9599-509a451b3a21",
     "showTitle": false,
     "tableResultSettingsMap": {},
     "title": ""
    }
   },
   "outputs": [
    {
     "output_type": "stream",
     "name": "stdout",
     "output_type": "stream",
     "text": [
      "+--------------+--------------+\n|     firstname|      LASTNAME|\n+--------------+--------------+\n|         James|         Smith|\n|       Michael|          Rose|\n|        Robert|      Williams|\n|         Maria|  Jones       |\n|         james|jones         |\n|          john|           doe|\n|        Michel|         bevon|\n|         james|         jones|\n|          john|           doe|\n|        Michel|         bevon|\n+--------------+--------------+\n\n"
     ]
    }
   ],
   "source": [
    "# select the columns based on column method\n",
    "# column name is not case sensitive in col method\n",
    "\n",
    "from pyspark.sql.functions import *\n",
    "\n",
    "df3 = df.select(df['firstname'],df['LASTNAME']).show()"
   ]
  },
  {
   "cell_type": "code",
   "execution_count": 0,
   "metadata": {
    "application/vnd.databricks.v1+cell": {
     "cellMetadata": {
      "byteLimit": 2048000,
      "rowLimit": 10000
     },
     "inputWidgets": {},
     "nuid": "00a9513b-d947-40f6-a3e2-30ed36fd62e4",
     "showTitle": false,
     "tableResultSettingsMap": {},
     "title": ""
    }
   },
   "outputs": [
    {
     "output_type": "stream",
     "name": "stdout",
     "output_type": "stream",
     "text": [
      "+--------------+--------------+\n|     firstname|      lastname|\n+--------------+--------------+\n|         James|         Smith|\n|       Michael|          Rose|\n|        Robert|      Williams|\n|         Maria|  Jones       |\n|         james|jones         |\n|          john|           doe|\n|        Michel|         bevon|\n|         james|         jones|\n|          john|           doe|\n|        Michel|         bevon|\n+--------------+--------------+\n\n"
     ]
    }
   ],
   "source": [
    "# select the column names based on wildcard name\n",
    "\n",
    "df2 = df.select(df.colRegex(\"`.*name.*`\")).show()"
   ]
  },
  {
   "cell_type": "code",
   "execution_count": 0,
   "metadata": {
    "application/vnd.databricks.v1+cell": {
     "cellMetadata": {
      "byteLimit": 2048000,
      "rowLimit": 10000
     },
     "inputWidgets": {},
     "nuid": "e5fed664-2313-4462-a6b8-bf16a3c9329d",
     "showTitle": false,
     "tableResultSettingsMap": {},
     "title": ""
    }
   },
   "outputs": [
    {
     "output_type": "stream",
     "name": "stdout",
     "output_type": "stream",
     "text": [
      "root\n |-- firstname: string (nullable = false)\n |-- lastname: string (nullable = true)\n |-- country: string (nullable = false)\n |-- state: string (nullable = false)\n |-- salary: integer (nullable = true)\n\n"
     ]
    }
   ],
   "source": [
    "# chaning the datatype of the column\n",
    "#option1 using the select method\n",
    "df_cast1 = df.select(\"firstname\",\"lastname\",\"country\",\"state\",df.salary.cast(IntegerType()))\n",
    "df_cast1.printSchema()"
   ]
  },
  {
   "cell_type": "code",
   "execution_count": 0,
   "metadata": {
    "application/vnd.databricks.v1+cell": {
     "cellMetadata": {
      "byteLimit": 2048000,
      "rowLimit": 10000
     },
     "inputWidgets": {},
     "nuid": "3c4ef481-e806-4d30-91d2-e9d2dac12c7a",
     "showTitle": false,
     "tableResultSettingsMap": {},
     "title": ""
    }
   },
   "outputs": [
    {
     "output_type": "stream",
     "name": "stdout",
     "output_type": "stream",
     "text": [
      "root\n |-- firstname: string (nullable = false)\n |-- lastname: string (nullable = true)\n |-- country: string (nullable = false)\n |-- state: string (nullable = false)\n |-- salary: integer (nullable = true)\n\n"
     ]
    }
   ],
   "source": [
    "# option2: using the withColumn method\n",
    "\n",
    "df_cast2 = df.withColumn(\"salary\",df.salary.cast(IntegerType()))\n",
    "df_cast2.printSchema() "
   ]
  },
  {
   "cell_type": "code",
   "execution_count": 0,
   "metadata": {
    "application/vnd.databricks.v1+cell": {
     "cellMetadata": {
      "byteLimit": 2048000,
      "rowLimit": 10000
     },
     "inputWidgets": {},
     "nuid": "525f500a-302e-412b-a9a1-53aba3fb0441",
     "showTitle": false,
     "tableResultSettingsMap": {},
     "title": ""
    }
   },
   "outputs": [
    {
     "output_type": "stream",
     "name": "stdout",
     "output_type": "stream",
     "text": [
      "+--------------+--------------+-------+-----+------+----------+\n|     firstname|      lastname|country|state|salary|salary_new|\n+--------------+--------------+-------+-----+------+----------+\n|         James|         Smith|    USA|   CA|  3000|      6000|\n|       Michael|          Rose|    USA|   NY|  2500|      5000|\n|        Robert|      Williams|    USA|   CA|  6000|     12000|\n|         Maria|  Jones       |    USA|   FL|  4000|      8000|\n|         james|jones         |     UK|  LND|  8000|     16000|\n|          john|           doe|     UK|  LND|  4000|      8000|\n|        Michel|         bevon|     UK|  LND|  5000|     10000|\n|         james|         jones|     UK|  LND|  8000|     16000|\n|          john|           doe|     UK|  MCR|  4000|      8000|\n|        Michel|         bevon|     UK|  MCR|  5000|     10000|\n+--------------+--------------+-------+-----+------+----------+\n\n"
     ]
    }
   ],
   "source": [
    "# Adding a new calculated columns using the withColumn method\n",
    "# add a new salary column with double the curretnt salary\n",
    "\n",
    "df1 = df.withColumn(\"salary_new\",df.salary*2)\n",
    "df1.show()"
   ]
  },
  {
   "cell_type": "code",
   "execution_count": 0,
   "metadata": {
    "application/vnd.databricks.v1+cell": {
     "cellMetadata": {
      "byteLimit": 2048000,
      "rowLimit": 10000
     },
     "inputWidgets": {},
     "nuid": "3f4e9f72-1476-443a-a3b8-457658b65fea",
     "showTitle": false,
     "tableResultSettingsMap": {},
     "title": ""
    }
   },
   "outputs": [
    {
     "output_type": "stream",
     "name": "stdout",
     "output_type": "stream",
     "text": [
      "+--------------+--------------+-------+-----+------+--------------------+\n|     firstname|      lastname|country|state|salary|            FullName|\n+--------------+--------------+-------+-----+------+--------------------+\n|         James|         Smith|    USA|   CA|  3000|         James Smith|\n|       Michael|          Rose|    USA|   NY|  2500|        Michael Rose|\n|        Robert|      Williams|    USA|   CA|  6000|     Robert Williams|\n|         Maria|  Jones       |    USA|   FL|  4000|  Maria Jones       |\n|         james|jones         |     UK|  LND|  8000|james jones         |\n|          john|           doe|     UK|  LND|  4000|            john doe|\n|        Michel|         bevon|     UK|  LND|  5000|        Michel bevon|\n|         james|         jones|     UK|  LND|  8000|         james jones|\n|          john|           doe|     UK|  MCR|  4000|            john doe|\n|        Michel|         bevon|     UK|  MCR|  5000|        Michel bevon|\n+--------------+--------------+-------+-----+------+--------------------+\n\n"
     ]
    }
   ],
   "source": [
    "# add a new calculated column full name, concatenate firt and last name\n",
    "df1 = df.withColumn(\"FullName\",concat(df.firstname, lit(\" \"),df.lastname))\n",
    "df1.show()"
   ]
  },
  {
   "cell_type": "code",
   "execution_count": 0,
   "metadata": {
    "application/vnd.databricks.v1+cell": {
     "cellMetadata": {
      "byteLimit": 2048000,
      "rowLimit": 10000
     },
     "inputWidgets": {},
     "nuid": "7c32a65b-5758-4729-b72e-25f4365f0d30",
     "showTitle": false,
     "tableResultSettingsMap": {},
     "title": ""
    }
   },
   "outputs": [
    {
     "output_type": "stream",
     "name": "stdout",
     "output_type": "stream",
     "text": [
      "+--------------+--------------+-------+-----+------+----------+\n|     firstname|      lastname|country|state|salary|ReportName|\n+--------------+--------------+-------+-----+------+----------+\n|         James|         Smith|    USA|   CA|  3000|   EmpInfo|\n|       Michael|          Rose|    USA|   NY|  2500|   EmpInfo|\n|        Robert|      Williams|    USA|   CA|  6000|   EmpInfo|\n|         Maria|  Jones       |    USA|   FL|  4000|   EmpInfo|\n|         james|jones         |     UK|  LND|  8000|   EmpInfo|\n|          john|           doe|     UK|  LND|  4000|   EmpInfo|\n|        Michel|         bevon|     UK|  LND|  5000|   EmpInfo|\n|         james|         jones|     UK|  LND|  8000|   EmpInfo|\n|          john|           doe|     UK|  MCR|  4000|   EmpInfo|\n|        Michel|         bevon|     UK|  MCR|  5000|   EmpInfo|\n+--------------+--------------+-------+-----+------+----------+\n\n"
     ]
    }
   ],
   "source": [
    "#add a static column called Reportnam and values should be \"empinfo\"\n",
    "df1 = df.withColumn(\"ReportName\",lit(\"EmpInfo\"))\n",
    "df1.show()"
   ]
  },
  {
   "cell_type": "code",
   "execution_count": 0,
   "metadata": {
    "application/vnd.databricks.v1+cell": {
     "cellMetadata": {
      "byteLimit": 2048000,
      "rowLimit": 10000
     },
     "inputWidgets": {},
     "nuid": "2c42e36d-cdad-4ff2-871e-51600369d09a",
     "showTitle": false,
     "tableResultSettingsMap": {},
     "title": ""
    }
   },
   "outputs": [
    {
     "output_type": "stream",
     "name": "stdout",
     "output_type": "stream",
     "text": [
      "+--------------+--------------+-------+-----+------+\n|        F_NAME|        L_NAME|country|state|salary|\n+--------------+--------------+-------+-----+------+\n|         James|         Smith|    USA|   CA|  3000|\n|       Michael|          Rose|    USA|   NY|  2500|\n|        Robert|      Williams|    USA|   CA|  6000|\n|         Maria|  Jones       |    USA|   FL|  4000|\n|         james|jones         |     UK|  LND|  8000|\n|          john|           doe|     UK|  LND|  4000|\n|        Michel|         bevon|     UK|  LND|  5000|\n|         james|         jones|     UK|  LND|  8000|\n|          john|           doe|     UK|  MCR|  4000|\n|        Michel|         bevon|     UK|  MCR|  5000|\n+--------------+--------------+-------+-----+------+\n\n"
     ]
    }
   ],
   "source": [
    "# renaming a column\n",
    "# option1: using the select method\n",
    "df1 = df.select(df.firstname.alias(\"F_NAME\"),df.lastname.alias(\"L_NAME\"),df.country,df.state,df.salary)\n",
    "df1.show()"
   ]
  },
  {
   "cell_type": "code",
   "execution_count": 0,
   "metadata": {
    "application/vnd.databricks.v1+cell": {
     "cellMetadata": {
      "byteLimit": 2048000,
      "rowLimit": 10000
     },
     "inputWidgets": {},
     "nuid": "57cf94db-d78c-4d4c-a2a7-703e3b6becb1",
     "showTitle": false,
     "tableResultSettingsMap": {},
     "title": ""
    }
   },
   "outputs": [
    {
     "output_type": "stream",
     "name": "stdout",
     "output_type": "stream",
     "text": [
      "+--------------+--------------+-------+-----+------+\n|        F_NAME|        L_NAME|country|state|salary|\n+--------------+--------------+-------+-----+------+\n|         James|         Smith|    USA|   CA|  3000|\n|       Michael|          Rose|    USA|   NY|  2500|\n|        Robert|      Williams|    USA|   CA|  6000|\n|         Maria|  Jones       |    USA|   FL|  4000|\n|         james|jones         |     UK|  LND|  8000|\n|          john|           doe|     UK|  LND|  4000|\n|        Michel|         bevon|     UK|  LND|  5000|\n|         james|         jones|     UK|  LND|  8000|\n|          john|           doe|     UK|  MCR|  4000|\n|        Michel|         bevon|     UK|  MCR|  5000|\n+--------------+--------------+-------+-----+------+\n\n"
     ]
    }
   ],
   "source": [
    "# option2: using the withColumnRenamed method\n",
    "df1 = df.withColumnRenamed(\"firstname\",\"F_NAME\")\\\n",
    "    .withColumnRenamed(\"lastname\",\"L_NAME\")\n",
    "df1.show()"
   ]
  }
 ],
 "metadata": {
  "application/vnd.databricks.v1+notebook": {
   "computePreferences": null,
   "dashboards": [],
   "environmentMetadata": {
    "base_environment": "",
    "environment_version": "3"
   },
   "inputWidgetPreferences": null,
   "language": "python",
   "notebookMetadata": {
    "pythonIndentUnit": 4
   },
   "notebookName": "DataFrame",
   "widgets": {}
  },
  "language_info": {
   "name": "python"
  }
 },
 "nbformat": 4,
 "nbformat_minor": 0
}